{
 "cells": [
  {
   "cell_type": "markdown",
   "metadata": {
    "toc": true
   },
   "source": [
    "<h1>Содержание</h1>\n",
    "<div>\n",
    "\t<ul>\n",
    "\t\t<li>Загрузка, ислледование, очистка данных</li>\n",
    "\t\t<li>Corellation and PCA</li>\n",
    "\t\t<li>Hyperparameter Tuning</li>\n",
    "\t\t<li>Обучение финальной модели</li>\n",
    "\t</ul>\n",
    "</div>"
   ]
  },
  {
   "cell_type": "markdown",
   "metadata": {},
   "source": [
    "## Загрузка, ислледование, очистка данных"
   ]
  },
  {
   "cell_type": "markdown",
   "metadata": {},
   "source": [
    "### Импорт библиотек"
   ]
  },
  {
   "cell_type": "code",
   "execution_count": 1,
   "metadata": {},
   "outputs": [],
   "source": [
    "import time\n",
    "import numpy as np\n",
    "import pandas as pd\n",
    "import scipy as sc\n",
    "import matplotlib.pyplot as plt\n",
    "from sklearn.model_selection import train_test_split\n",
    "import warnings\n",
    "import seaborn as sns\n",
    "\n",
    "%matplotlib inline\n",
    "warnings.filterwarnings('ignore')\n",
    "np.random.seed(37)"
   ]
  },
  {
   "cell_type": "markdown",
   "metadata": {},
   "source": [
    "## Основные действия с данными\n",
    "### Загрузка данных"
   ]
  },
  {
   "cell_type": "code",
   "execution_count": 2,
   "metadata": {},
   "outputs": [],
   "source": [
    "train_full = pd.read_csv('./data/course_project_train.csv')\n",
    "test_full = pd.read_csv('./data/course_project_test.csv')"
   ]
  },
  {
   "cell_type": "markdown",
   "metadata": {},
   "source": [
    "Выводим данные для первичного визуального анализа"
   ]
  },
  {
   "cell_type": "code",
   "execution_count": 3,
   "metadata": {},
   "outputs": [
    {
     "data": {
      "text/html": [
       "<div>\n",
       "<style scoped>\n",
       "    .dataframe tbody tr th:only-of-type {\n",
       "        vertical-align: middle;\n",
       "    }\n",
       "\n",
       "    .dataframe tbody tr th {\n",
       "        vertical-align: top;\n",
       "    }\n",
       "\n",
       "    .dataframe thead th {\n",
       "        text-align: right;\n",
       "    }\n",
       "</style>\n",
       "<table border=\"1\" class=\"dataframe\">\n",
       "  <thead>\n",
       "    <tr style=\"text-align: right;\">\n",
       "      <th></th>\n",
       "      <th>Home Ownership</th>\n",
       "      <th>Annual Income</th>\n",
       "      <th>Years in current job</th>\n",
       "      <th>Tax Liens</th>\n",
       "      <th>Number of Open Accounts</th>\n",
       "      <th>Years of Credit History</th>\n",
       "      <th>Maximum Open Credit</th>\n",
       "      <th>Number of Credit Problems</th>\n",
       "      <th>Months since last delinquent</th>\n",
       "      <th>Bankruptcies</th>\n",
       "      <th>Purpose</th>\n",
       "      <th>Term</th>\n",
       "      <th>Current Loan Amount</th>\n",
       "      <th>Current Credit Balance</th>\n",
       "      <th>Monthly Debt</th>\n",
       "      <th>Credit Score</th>\n",
       "      <th>Credit Default</th>\n",
       "    </tr>\n",
       "  </thead>\n",
       "  <tbody>\n",
       "    <tr>\n",
       "      <th>0</th>\n",
       "      <td>Own Home</td>\n",
       "      <td>482087.0</td>\n",
       "      <td>NaN</td>\n",
       "      <td>0.0</td>\n",
       "      <td>11.0</td>\n",
       "      <td>26.3</td>\n",
       "      <td>685960.0</td>\n",
       "      <td>1.0</td>\n",
       "      <td>NaN</td>\n",
       "      <td>1.0</td>\n",
       "      <td>debt consolidation</td>\n",
       "      <td>Short Term</td>\n",
       "      <td>99999999.0</td>\n",
       "      <td>47386.0</td>\n",
       "      <td>7914.0</td>\n",
       "      <td>749.0</td>\n",
       "      <td>0</td>\n",
       "    </tr>\n",
       "    <tr>\n",
       "      <th>1</th>\n",
       "      <td>Own Home</td>\n",
       "      <td>1025487.0</td>\n",
       "      <td>10+ years</td>\n",
       "      <td>0.0</td>\n",
       "      <td>15.0</td>\n",
       "      <td>15.3</td>\n",
       "      <td>1181730.0</td>\n",
       "      <td>0.0</td>\n",
       "      <td>NaN</td>\n",
       "      <td>0.0</td>\n",
       "      <td>debt consolidation</td>\n",
       "      <td>Long Term</td>\n",
       "      <td>264968.0</td>\n",
       "      <td>394972.0</td>\n",
       "      <td>18373.0</td>\n",
       "      <td>737.0</td>\n",
       "      <td>1</td>\n",
       "    </tr>\n",
       "    <tr>\n",
       "      <th>2</th>\n",
       "      <td>Home Mortgage</td>\n",
       "      <td>751412.0</td>\n",
       "      <td>8 years</td>\n",
       "      <td>0.0</td>\n",
       "      <td>11.0</td>\n",
       "      <td>35.0</td>\n",
       "      <td>1182434.0</td>\n",
       "      <td>0.0</td>\n",
       "      <td>NaN</td>\n",
       "      <td>0.0</td>\n",
       "      <td>debt consolidation</td>\n",
       "      <td>Short Term</td>\n",
       "      <td>99999999.0</td>\n",
       "      <td>308389.0</td>\n",
       "      <td>13651.0</td>\n",
       "      <td>742.0</td>\n",
       "      <td>0</td>\n",
       "    </tr>\n",
       "    <tr>\n",
       "      <th>3</th>\n",
       "      <td>Own Home</td>\n",
       "      <td>805068.0</td>\n",
       "      <td>6 years</td>\n",
       "      <td>0.0</td>\n",
       "      <td>8.0</td>\n",
       "      <td>22.5</td>\n",
       "      <td>147400.0</td>\n",
       "      <td>1.0</td>\n",
       "      <td>NaN</td>\n",
       "      <td>1.0</td>\n",
       "      <td>debt consolidation</td>\n",
       "      <td>Short Term</td>\n",
       "      <td>121396.0</td>\n",
       "      <td>95855.0</td>\n",
       "      <td>11338.0</td>\n",
       "      <td>694.0</td>\n",
       "      <td>0</td>\n",
       "    </tr>\n",
       "    <tr>\n",
       "      <th>4</th>\n",
       "      <td>Rent</td>\n",
       "      <td>776264.0</td>\n",
       "      <td>8 years</td>\n",
       "      <td>0.0</td>\n",
       "      <td>13.0</td>\n",
       "      <td>13.6</td>\n",
       "      <td>385836.0</td>\n",
       "      <td>1.0</td>\n",
       "      <td>NaN</td>\n",
       "      <td>0.0</td>\n",
       "      <td>debt consolidation</td>\n",
       "      <td>Short Term</td>\n",
       "      <td>125840.0</td>\n",
       "      <td>93309.0</td>\n",
       "      <td>7180.0</td>\n",
       "      <td>719.0</td>\n",
       "      <td>0</td>\n",
       "    </tr>\n",
       "  </tbody>\n",
       "</table>\n",
       "</div>"
      ],
      "text/plain": [
       "  Home Ownership  Annual Income Years in current job  Tax Liens  \\\n",
       "0       Own Home       482087.0                  NaN        0.0   \n",
       "1       Own Home      1025487.0            10+ years        0.0   \n",
       "2  Home Mortgage       751412.0              8 years        0.0   \n",
       "3       Own Home       805068.0              6 years        0.0   \n",
       "4           Rent       776264.0              8 years        0.0   \n",
       "\n",
       "   Number of Open Accounts  Years of Credit History  Maximum Open Credit  \\\n",
       "0                     11.0                     26.3             685960.0   \n",
       "1                     15.0                     15.3            1181730.0   \n",
       "2                     11.0                     35.0            1182434.0   \n",
       "3                      8.0                     22.5             147400.0   \n",
       "4                     13.0                     13.6             385836.0   \n",
       "\n",
       "   Number of Credit Problems  Months since last delinquent  Bankruptcies  \\\n",
       "0                        1.0                           NaN           1.0   \n",
       "1                        0.0                           NaN           0.0   \n",
       "2                        0.0                           NaN           0.0   \n",
       "3                        1.0                           NaN           1.0   \n",
       "4                        1.0                           NaN           0.0   \n",
       "\n",
       "              Purpose        Term  Current Loan Amount  \\\n",
       "0  debt consolidation  Short Term           99999999.0   \n",
       "1  debt consolidation   Long Term             264968.0   \n",
       "2  debt consolidation  Short Term           99999999.0   \n",
       "3  debt consolidation  Short Term             121396.0   \n",
       "4  debt consolidation  Short Term             125840.0   \n",
       "\n",
       "   Current Credit Balance  Monthly Debt  Credit Score  Credit Default  \n",
       "0                 47386.0        7914.0         749.0               0  \n",
       "1                394972.0       18373.0         737.0               1  \n",
       "2                308389.0       13651.0         742.0               0  \n",
       "3                 95855.0       11338.0         694.0               0  \n",
       "4                 93309.0        7180.0         719.0               0  "
      ]
     },
     "metadata": {},
     "output_type": "display_data"
    },
    {
     "data": {
      "text/plain": [
       "(7500, 17)"
      ]
     },
     "metadata": {},
     "output_type": "display_data"
    },
    {
     "data": {
      "text/html": [
       "<div>\n",
       "<style scoped>\n",
       "    .dataframe tbody tr th:only-of-type {\n",
       "        vertical-align: middle;\n",
       "    }\n",
       "\n",
       "    .dataframe tbody tr th {\n",
       "        vertical-align: top;\n",
       "    }\n",
       "\n",
       "    .dataframe thead th {\n",
       "        text-align: right;\n",
       "    }\n",
       "</style>\n",
       "<table border=\"1\" class=\"dataframe\">\n",
       "  <thead>\n",
       "    <tr style=\"text-align: right;\">\n",
       "      <th></th>\n",
       "      <th>Home Ownership</th>\n",
       "      <th>Annual Income</th>\n",
       "      <th>Years in current job</th>\n",
       "      <th>Tax Liens</th>\n",
       "      <th>Number of Open Accounts</th>\n",
       "      <th>Years of Credit History</th>\n",
       "      <th>Maximum Open Credit</th>\n",
       "      <th>Number of Credit Problems</th>\n",
       "      <th>Months since last delinquent</th>\n",
       "      <th>Bankruptcies</th>\n",
       "      <th>Purpose</th>\n",
       "      <th>Term</th>\n",
       "      <th>Current Loan Amount</th>\n",
       "      <th>Current Credit Balance</th>\n",
       "      <th>Monthly Debt</th>\n",
       "      <th>Credit Score</th>\n",
       "    </tr>\n",
       "  </thead>\n",
       "  <tbody>\n",
       "    <tr>\n",
       "      <th>0</th>\n",
       "      <td>Rent</td>\n",
       "      <td>NaN</td>\n",
       "      <td>4 years</td>\n",
       "      <td>0.0</td>\n",
       "      <td>9.0</td>\n",
       "      <td>12.5</td>\n",
       "      <td>220968.0</td>\n",
       "      <td>0.0</td>\n",
       "      <td>70.0</td>\n",
       "      <td>0.0</td>\n",
       "      <td>debt consolidation</td>\n",
       "      <td>Short Term</td>\n",
       "      <td>162470.0</td>\n",
       "      <td>105906.0</td>\n",
       "      <td>6813.0</td>\n",
       "      <td>NaN</td>\n",
       "    </tr>\n",
       "    <tr>\n",
       "      <th>1</th>\n",
       "      <td>Rent</td>\n",
       "      <td>231838.0</td>\n",
       "      <td>1 year</td>\n",
       "      <td>0.0</td>\n",
       "      <td>6.0</td>\n",
       "      <td>32.7</td>\n",
       "      <td>55946.0</td>\n",
       "      <td>0.0</td>\n",
       "      <td>8.0</td>\n",
       "      <td>0.0</td>\n",
       "      <td>educational expenses</td>\n",
       "      <td>Short Term</td>\n",
       "      <td>78298.0</td>\n",
       "      <td>46037.0</td>\n",
       "      <td>2318.0</td>\n",
       "      <td>699.0</td>\n",
       "    </tr>\n",
       "    <tr>\n",
       "      <th>2</th>\n",
       "      <td>Home Mortgage</td>\n",
       "      <td>1152540.0</td>\n",
       "      <td>3 years</td>\n",
       "      <td>0.0</td>\n",
       "      <td>10.0</td>\n",
       "      <td>13.7</td>\n",
       "      <td>204600.0</td>\n",
       "      <td>0.0</td>\n",
       "      <td>NaN</td>\n",
       "      <td>0.0</td>\n",
       "      <td>debt consolidation</td>\n",
       "      <td>Short Term</td>\n",
       "      <td>200178.0</td>\n",
       "      <td>146490.0</td>\n",
       "      <td>18729.0</td>\n",
       "      <td>7260.0</td>\n",
       "    </tr>\n",
       "    <tr>\n",
       "      <th>3</th>\n",
       "      <td>Home Mortgage</td>\n",
       "      <td>1220313.0</td>\n",
       "      <td>10+ years</td>\n",
       "      <td>0.0</td>\n",
       "      <td>16.0</td>\n",
       "      <td>17.0</td>\n",
       "      <td>456302.0</td>\n",
       "      <td>0.0</td>\n",
       "      <td>70.0</td>\n",
       "      <td>0.0</td>\n",
       "      <td>debt consolidation</td>\n",
       "      <td>Short Term</td>\n",
       "      <td>217382.0</td>\n",
       "      <td>213199.0</td>\n",
       "      <td>27559.0</td>\n",
       "      <td>739.0</td>\n",
       "    </tr>\n",
       "    <tr>\n",
       "      <th>4</th>\n",
       "      <td>Home Mortgage</td>\n",
       "      <td>2340952.0</td>\n",
       "      <td>6 years</td>\n",
       "      <td>0.0</td>\n",
       "      <td>11.0</td>\n",
       "      <td>23.6</td>\n",
       "      <td>1207272.0</td>\n",
       "      <td>0.0</td>\n",
       "      <td>NaN</td>\n",
       "      <td>0.0</td>\n",
       "      <td>debt consolidation</td>\n",
       "      <td>Long Term</td>\n",
       "      <td>777634.0</td>\n",
       "      <td>425391.0</td>\n",
       "      <td>42605.0</td>\n",
       "      <td>706.0</td>\n",
       "    </tr>\n",
       "  </tbody>\n",
       "</table>\n",
       "</div>"
      ],
      "text/plain": [
       "  Home Ownership  Annual Income Years in current job  Tax Liens  \\\n",
       "0           Rent            NaN              4 years        0.0   \n",
       "1           Rent       231838.0               1 year        0.0   \n",
       "2  Home Mortgage      1152540.0              3 years        0.0   \n",
       "3  Home Mortgage      1220313.0            10+ years        0.0   \n",
       "4  Home Mortgage      2340952.0              6 years        0.0   \n",
       "\n",
       "   Number of Open Accounts  Years of Credit History  Maximum Open Credit  \\\n",
       "0                      9.0                     12.5             220968.0   \n",
       "1                      6.0                     32.7              55946.0   \n",
       "2                     10.0                     13.7             204600.0   \n",
       "3                     16.0                     17.0             456302.0   \n",
       "4                     11.0                     23.6            1207272.0   \n",
       "\n",
       "   Number of Credit Problems  Months since last delinquent  Bankruptcies  \\\n",
       "0                        0.0                          70.0           0.0   \n",
       "1                        0.0                           8.0           0.0   \n",
       "2                        0.0                           NaN           0.0   \n",
       "3                        0.0                          70.0           0.0   \n",
       "4                        0.0                           NaN           0.0   \n",
       "\n",
       "                Purpose        Term  Current Loan Amount  \\\n",
       "0    debt consolidation  Short Term             162470.0   \n",
       "1  educational expenses  Short Term              78298.0   \n",
       "2    debt consolidation  Short Term             200178.0   \n",
       "3    debt consolidation  Short Term             217382.0   \n",
       "4    debt consolidation   Long Term             777634.0   \n",
       "\n",
       "   Current Credit Balance  Monthly Debt  Credit Score  \n",
       "0                105906.0        6813.0           NaN  \n",
       "1                 46037.0        2318.0         699.0  \n",
       "2                146490.0       18729.0        7260.0  \n",
       "3                213199.0       27559.0         739.0  \n",
       "4                425391.0       42605.0         706.0  "
      ]
     },
     "metadata": {},
     "output_type": "display_data"
    },
    {
     "data": {
      "text/plain": [
       "(2500, 16)"
      ]
     },
     "metadata": {},
     "output_type": "display_data"
    }
   ],
   "source": [
    "display(train_full.head(), train_full.shape)\n",
    "display(test_full.head(), test_full.shape)"
   ]
  },
  {
   "cell_type": "markdown",
   "metadata": {},
   "source": [
    "Напишем функцию для вывода информации о пропущенных и уникальных данных "
   ]
  },
  {
   "cell_type": "code",
   "execution_count": 4,
   "metadata": {},
   "outputs": [],
   "source": [
    "def nans_and_unique(df):\n",
    "    for col in df.columns:\n",
    "        print(col)\n",
    "        print('.'*25)\n",
    "        print('Количество пустых значений',df[col].isna().sum())\n",
    "        print('Количество уникальных занчений:',len(df[col].unique()))\n",
    "        print('-'*25)"
   ]
  },
  {
   "cell_type": "markdown",
   "metadata": {},
   "source": [
    "Пропущенные и уникальные данные тренировочного датасета"
   ]
  },
  {
   "cell_type": "code",
   "execution_count": 5,
   "metadata": {},
   "outputs": [
    {
     "name": "stdout",
     "output_type": "stream",
     "text": [
      "Home Ownership\n",
      ".........................\n",
      "Количество пустых значений 0\n",
      "Количество уникальных занчений: 4\n",
      "-------------------------\n",
      "Annual Income\n",
      ".........................\n",
      "Количество пустых значений 1557\n",
      "Количество уникальных занчений: 5479\n",
      "-------------------------\n",
      "Years in current job\n",
      ".........................\n",
      "Количество пустых значений 371\n",
      "Количество уникальных занчений: 12\n",
      "-------------------------\n",
      "Tax Liens\n",
      ".........................\n",
      "Количество пустых значений 0\n",
      "Количество уникальных занчений: 8\n",
      "-------------------------\n",
      "Number of Open Accounts\n",
      ".........................\n",
      "Количество пустых значений 0\n",
      "Количество уникальных занчений: 39\n",
      "-------------------------\n",
      "Years of Credit History\n",
      ".........................\n",
      "Количество пустых значений 0\n",
      "Количество уникальных занчений: 408\n",
      "-------------------------\n",
      "Maximum Open Credit\n",
      ".........................\n",
      "Количество пустых значений 0\n",
      "Количество уникальных занчений: 6963\n",
      "-------------------------\n",
      "Number of Credit Problems\n",
      ".........................\n",
      "Количество пустых значений 0\n",
      "Количество уникальных занчений: 8\n",
      "-------------------------\n",
      "Months since last delinquent\n",
      ".........................\n",
      "Количество пустых значений 4081\n",
      "Количество уникальных занчений: 90\n",
      "-------------------------\n",
      "Bankruptcies\n",
      ".........................\n",
      "Количество пустых значений 14\n",
      "Количество уникальных занчений: 6\n",
      "-------------------------\n",
      "Purpose\n",
      ".........................\n",
      "Количество пустых значений 0\n",
      "Количество уникальных занчений: 15\n",
      "-------------------------\n",
      "Term\n",
      ".........................\n",
      "Количество пустых значений 0\n",
      "Количество уникальных занчений: 2\n",
      "-------------------------\n",
      "Current Loan Amount\n",
      ".........................\n",
      "Количество пустых значений 0\n",
      "Количество уникальных занчений: 5386\n",
      "-------------------------\n",
      "Current Credit Balance\n",
      ".........................\n",
      "Количество пустых значений 0\n",
      "Количество уникальных занчений: 6592\n",
      "-------------------------\n",
      "Monthly Debt\n",
      ".........................\n",
      "Количество пустых значений 0\n",
      "Количество уникальных занчений: 6716\n",
      "-------------------------\n",
      "Credit Score\n",
      ".........................\n",
      "Количество пустых значений 1557\n",
      "Количество уникальных занчений: 269\n",
      "-------------------------\n",
      "Credit Default\n",
      ".........................\n",
      "Количество пустых значений 0\n",
      "Количество уникальных занчений: 2\n",
      "-------------------------\n"
     ]
    }
   ],
   "source": [
    "nans_and_unique(train_full)"
   ]
  },
  {
   "cell_type": "markdown",
   "metadata": {},
   "source": [
    "Пропущенные данные и уникальные данные тестового датасета"
   ]
  },
  {
   "cell_type": "code",
   "execution_count": 6,
   "metadata": {},
   "outputs": [
    {
     "name": "stdout",
     "output_type": "stream",
     "text": [
      "Home Ownership\n",
      ".........................\n",
      "Количество пустых значений 0\n",
      "Количество уникальных занчений: 4\n",
      "-------------------------\n",
      "Annual Income\n",
      ".........................\n",
      "Количество пустых значений 513\n",
      "Количество уникальных занчений: 1930\n",
      "-------------------------\n",
      "Years in current job\n",
      ".........................\n",
      "Количество пустых значений 86\n",
      "Количество уникальных занчений: 12\n",
      "-------------------------\n",
      "Tax Liens\n",
      ".........................\n",
      "Количество пустых значений 0\n",
      "Количество уникальных занчений: 8\n",
      "-------------------------\n",
      "Number of Open Accounts\n",
      ".........................\n",
      "Количество пустых значений 0\n",
      "Количество уникальных занчений: 35\n",
      "-------------------------\n",
      "Years of Credit History\n",
      ".........................\n",
      "Количество пустых значений 0\n",
      "Количество уникальных занчений: 345\n",
      "-------------------------\n",
      "Maximum Open Credit\n",
      ".........................\n",
      "Количество пустых значений 0\n",
      "Количество уникальных занчений: 2435\n",
      "-------------------------\n",
      "Number of Credit Problems\n",
      ".........................\n",
      "Количество пустых значений 0\n",
      "Количество уникальных занчений: 8\n",
      "-------------------------\n",
      "Months since last delinquent\n",
      ".........................\n",
      "Количество пустых значений 1358\n",
      "Количество уникальных занчений: 84\n",
      "-------------------------\n",
      "Bankruptcies\n",
      ".........................\n",
      "Количество пустых значений 3\n",
      "Количество уникальных занчений: 7\n",
      "-------------------------\n",
      "Purpose\n",
      ".........................\n",
      "Количество пустых значений 0\n",
      "Количество уникальных занчений: 14\n",
      "-------------------------\n",
      "Term\n",
      ".........................\n",
      "Количество пустых значений 0\n",
      "Количество уникальных занчений: 2\n",
      "-------------------------\n",
      "Current Loan Amount\n",
      ".........................\n",
      "Количество пустых значений 0\n",
      "Количество уникальных занчений: 2026\n",
      "-------------------------\n",
      "Current Credit Balance\n",
      ".........................\n",
      "Количество пустых значений 0\n",
      "Количество уникальных занчений: 2385\n",
      "-------------------------\n",
      "Monthly Debt\n",
      ".........................\n",
      "Количество пустых значений 0\n",
      "Количество уникальных занчений: 2416\n",
      "-------------------------\n",
      "Credit Score\n",
      ".........................\n",
      "Количество пустых значений 513\n",
      "Количество уникальных занчений: 212\n",
      "-------------------------\n"
     ]
    }
   ],
   "source": [
    "nans_and_unique(test_full)"
   ]
  },
  {
   "cell_type": "markdown",
   "metadata": {},
   "source": [
    "**Итоги анализа пропущенных данных**\n",
    "\n",
    "* Предлагаю над пропущенными данными произвести **замену**\n",
    "\t* Annual Income, Credit Score - будут заменены медианным значением\n",
    "\t* Years in current job - заменена на целое медианное значение, при этом сама величина будет преобразована в категориальную сетку\n",
    "\t* Bankrupties - заменена на модальное значение\n",
    "\t* Months since last delinquent - вместо пропущенных значений будет поставлен 0, т.к. вероятнее всего отсутствующее значение говорит нам об отсутствии нарушений\n",
    "учитывая специфическую природу переменной, значение 0 в полной мере не отражает смысла, поэтому будет введена дополнительная бинарная переменная - delinquet_in_past\n"
   ]
  },
  {
   "cell_type": "markdown",
   "metadata": {},
   "source": [
    "Функция для визуального изучения распределений"
   ]
  },
  {
   "cell_type": "code",
   "execution_count": 7,
   "metadata": {},
   "outputs": [],
   "source": [
    "def get_plots(df_train, df_test, col_name, hist = False):\n",
    "    fig, ax = plt.subplots(1,3,figsize=(16,5))\n",
    "    ax[1].set_title('Train Dataset')\n",
    "    ax[2].set_title('Test Dataset')\n",
    "    sns.distplot(df_train[col_name], color='b', ax=ax[0], hist=hist, label='Train')\n",
    "    sns.distplot(df_test[col_name], color='r', ax=ax[0], hist=hist, label='Test')\n",
    "    sns.boxplot(df_train[col_name], ax=ax[1])\n",
    "    sns.boxplot(df_test[col_name], color='r', ax=ax[2])\n",
    "    plt.show()"
   ]
  },
  {
   "cell_type": "code",
   "execution_count": 8,
   "metadata": {},
   "outputs": [
    {
     "data": {
      "image/png": "[encoded data removed]",
      "text/plain": [
       "<Figure size 1152x360 with 3 Axes>"
      ]
     },
     "metadata": {
      "needs_background": "light"
     },
     "output_type": "display_data"
    },
    {
     "data": {
      "image/png": "[encoded data removed]",
      "text/plain": [
       "<Figure size 1152x360 with 3 Axes>"
      ]
     },
     "metadata": {
      "needs_background": "light"
     },
     "output_type": "display_data"
    },
    {
     "data": {
      "image/png": "[encoded data removed]",
      "text/plain": [
       "<Figure size 1152x360 with 3 Axes>"
      ]
     },
     "metadata": {
      "needs_background": "light"
     },
     "output_type": "display_data"
    },
    {
     "data": {
      "image/png": "[encoded data removed]",
      "text/plain": [
       "<Figure size 1152x360 with 3 Axes>"
      ]
     },
     "metadata": {
      "needs_background": "light"
     },
     "output_type": "display_data"
    },
    {
     "data": {
      "image/png": "[encoded data removed]",
      "text/plain": [
       "<Figure size 1152x360 with 3 Axes>"
      ]
     },
     "metadata": {
      "needs_background": "light"
     },
     "output_type": "display_data"
    },
    {
     "data": {
      "image/png": "[encoded data removed]",
      "text/plain": [
       "<Figure size 1152x360 with 3 Axes>"
      ]
     },
     "metadata": {
      "needs_background": "light"
     },
     "output_type": "display_data"
    },
    {
     "data": {
      "image/png": "[encoded data removed]",
      "text/plain": [
       "<Figure size 1152x360 with 3 Axes>"
      ]
     },
     "metadata": {
      "needs_background": "light"
     },
     "output_type": "display_data"
    },
    {
     "data": {
      "image/png": "[encoded data removed]",
      "text/plain": [
       "<Figure size 1152x360 with 3 Axes>"
      ]
     },
     "metadata": {
      "needs_background": "light"
     },
     "output_type": "display_data"
    },
    {
     "data": {
      "image/png": "[encoded data removed]",
      "text/plain": [
       "<Figure size 1152x360 with 3 Axes>"
      ]
     },
     "metadata": {
      "needs_background": "light"
     },
     "output_type": "display_data"
    }
   ],
   "source": [
    "cont_columns = ['Annual Income', 'Years of Credit History','Maximum Open Credit','Months since last delinquent',\n",
    "            'Current Loan Amount', 'Current Credit Balance', 'Monthly Debt', 'Credit Score', 'Number of Open Accounts']\n",
    "\n",
    "semi_cont_columns = ['Tax Liens','Number of Credit Problems', 'Bankruptcies']\n",
    "\n",
    "category_cols = ['Home Ownership', 'Years in current job', 'Purpose', 'Term']\n",
    "\n",
    "for col in cont_columns:\n",
    "    get_plots(train_full, test_full,col)"
   ]
  },
  {
   "cell_type": "markdown",
   "metadata": {},
   "source": [
    "Визуальный анализ показал, что в целом гистограммы однородны и похожи у обоих датасетов, поэтому замена пропущенных данных может производится у тестовых и тренировочных данных независимо друг от друга\n",
    "\n",
    "Также были выявленны выбросы. Поэтому предлагаю определить верхние границы выбросов таким образом, чтобы оставшийся диапазон тренировочного датасета покрывал данные тестового датасета\n",
    "  - Annual Income: 7 500 000\n",
    "  - Years of Credit History: 50\n",
    "  - Maximum Open Credit: 1e9\n",
    "  - Months since last delinquent: 100\n",
    "  - Monthly Debt: 80 000\n",
    "  - Number of Open Accounts: 40"
   ]
  },
  {
   "cell_type": "markdown",
   "metadata": {},
   "source": [
    "**полунепрерывные данные**"
   ]
  },
  {
   "cell_type": "code",
   "execution_count": 9,
   "metadata": {},
   "outputs": [
    {
     "data": {
      "image/png": "[encoded data removed]",
      "text/plain": [
       "<Figure size 1152x360 with 3 Axes>"
      ]
     },
     "metadata": {
      "needs_background": "light"
     },
     "output_type": "display_data"
    },
    {
     "data": {
      "image/png": "[encoded data removed]",
      "text/plain": [
       "<Figure size 1152x360 with 3 Axes>"
      ]
     },
     "metadata": {
      "needs_background": "light"
     },
     "output_type": "display_data"
    },
    {
     "data": {
      "image/png": "[encoded data removed]",
      "text/plain": [
       "<Figure size 1152x360 with 3 Axes>"
      ]
     },
     "metadata": {
      "needs_background": "light"
     },
     "output_type": "display_data"
    }
   ],
   "source": [
    "for col in semi_cont_columns:\n",
    "    get_plots(train_full, test_full,col, hist=True)"
   ]
  },
  {
   "cell_type": "markdown",
   "metadata": {},
   "source": [
    "Выводы из визуального анализа\n",
    "\n",
    "Мы видим, что значения выбросов тестовой выборки - больше чем у тренировочной.\n",
    "\n",
    "Поэтому мы:\n",
    "  - Проверим данные переменные на корелляцию и PCA\n",
    "  - Заменим пропуски в Bankruptcies - на значение моды (0) в обоих выборках"
   ]
  },
  {
   "cell_type": "markdown",
   "metadata": {},
   "source": [
    "**Подготовка данных: Замена пропусков**"
   ]
  },
  {
   "cell_type": "markdown",
   "metadata": {},
   "source": [
    "Получаем медианы"
   ]
  },
  {
   "cell_type": "code",
   "execution_count": 10,
   "metadata": {},
   "outputs": [],
   "source": [
    "annual_income_train_median = train_full['Annual Income'].median()\n",
    "credit_score_train_median = train_full['Credit Score'].median()\n",
    "annual_income_test_median = test_full['Annual Income'].median()\n",
    "credit_score_test_median = test_full['Credit Score'].median()\n",
    "bankrupt_mode = 0.0\n"
   ]
  },
  {
   "cell_type": "markdown",
   "metadata": {},
   "source": [
    "Обработка стажа на текущей работе"
   ]
  },
  {
   "cell_type": "code",
   "execution_count": 11,
   "metadata": {},
   "outputs": [],
   "source": [
    "years_train_table = train_full['Years in current job'].value_counts()\n",
    "years_train_int = []\n",
    "for i in years_train_table.index:\n",
    "    if i == '10+ years':\n",
    "        years_train_int.append(10)\n",
    "    elif i == '< 1 year':\n",
    "        years_train_int.append(0)\n",
    "    else:\n",
    "        years_train_int.append(int(i[0]))\n",
    "    \n",
    "years_train_avg = [i*j for i,j in zip(np.array(years_train_int), years_train_table.values / years_train_table.sum())]\n",
    "years_train_avg = str(int(round(sum(years_train_avg))))+' years'\n",
    "\n",
    "years_test_table = test_full['Years in current job'].value_counts()\n",
    "years_test_int = []\n",
    "for i in years_test_table.index:\n",
    "    if i == '10+ years':\n",
    "        years_test_int.append(10)\n",
    "    elif i == '< 1 year':\n",
    "        years_test_int.append(0)\n",
    "    else:\n",
    "        years_test_int.append(int(i[0]))\n",
    "    \n",
    "years_test_avg = [i*j for i,j in zip(np.array(years_test_int), years_test_table.values / years_test_table.sum())]\n",
    "years_test_avg = str(int(round(sum(years_test_avg))))+' years'"
   ]
  },
  {
   "cell_type": "markdown",
   "metadata": {},
   "source": [
    "**Замена пропусков**"
   ]
  },
  {
   "cell_type": "markdown",
   "metadata": {
    "pycharm": {
     "name": "#%% md\n"
    }
   },
   "source": [
    "Annual Income"
   ]
  },
  {
   "cell_type": "code",
   "execution_count": 12,
   "metadata": {},
   "outputs": [],
   "source": [
    "train_full['Annual Income'].fillna(value=annual_income_train_median, inplace=True)\n",
    "test_full['Annual Income'].fillna(value=annual_income_test_median, inplace=True)"
   ]
  },
  {
   "cell_type": "markdown",
   "metadata": {},
   "source": [
    "Credit Score"
   ]
  },
  {
   "cell_type": "code",
   "execution_count": 13,
   "metadata": {
    "pycharm": {
     "name": "#%%\n"
    }
   },
   "outputs": [],
   "source": [
    "train_full['Credit Score'].fillna(value=credit_score_train_median, inplace=True)\n",
    "test_full['Credit Score'].fillna(value=credit_score_test_median, inplace=True)"
   ]
  },
  {
   "cell_type": "markdown",
   "metadata": {},
   "source": [
    "Bankruptcies"
   ]
  },
  {
   "cell_type": "code",
   "execution_count": 14,
   "metadata": {
    "pycharm": {
     "name": "#%%\n"
    }
   },
   "outputs": [],
   "source": [
    "train_full['Bankruptcies'].fillna(value=bankrupt_mode, inplace=True)\n",
    "test_full['Bankruptcies'].fillna(value=bankrupt_mode, inplace=True)"
   ]
  },
  {
   "cell_type": "markdown",
   "metadata": {},
   "source": [
    "Years in current job"
   ]
  },
  {
   "cell_type": "code",
   "execution_count": 15,
   "metadata": {
    "pycharm": {
     "name": "#%%\n"
    }
   },
   "outputs": [],
   "source": [
    "train_full['Years in current job'].fillna(value=years_train_avg, inplace=True)\n",
    "test_full['Years in current job'].fillna(value=years_test_avg, inplace=True)"
   ]
  },
  {
   "cell_type": "markdown",
   "metadata": {},
   "source": [
    "Months since last delinquent"
   ]
  },
  {
   "cell_type": "code",
   "execution_count": 16,
   "metadata": {
    "pycharm": {
     "name": "#%%\n"
    }
   },
   "outputs": [],
   "source": [
    "train_full['Months since last delinquent'].fillna(value=0, inplace=True)\n",
    "test_full['Months since last delinquent'].fillna(value=0, inplace=True)"
   ]
  },
  {
   "cell_type": "markdown",
   "metadata": {},
   "source": [
    "Delinquent in past"
   ]
  },
  {
   "cell_type": "code",
   "execution_count": 17,
   "metadata": {
    "pycharm": {
     "name": "#%%\n"
    }
   },
   "outputs": [],
   "source": [
    "train_full['Delinquent in past'] = [1 if i > 0 else 0 for i in train_full['Months since last delinquent']]\n",
    "test_full['Delinquent in past'] = [1 if i > 0 else 0 for i in test_full['Months since last delinquent']]"
   ]
  },
  {
   "cell_type": "markdown",
   "metadata": {},
   "source": [
    "** Проверим пропуски"
   ]
  },
  {
   "cell_type": "code",
   "execution_count": 18,
   "metadata": {
    "pycharm": {
     "name": "#%%\n"
    }
   },
   "outputs": [
    {
     "name": "stdout",
     "output_type": "stream",
     "text": [
      "число пропусков в TRAIN: 0\n",
      "число пропусков в TEST: 0\n"
     ]
    }
   ],
   "source": [
    "print(f'число пропусков в TRAIN: {train_full.isna().sum().sum()}')\n",
    "print(f'число пропусков в TEST: {test_full.isna().sum().sum()}')"
   ]
  },
  {
   "cell_type": "markdown",
   "metadata": {},
   "source": [
    "**Проверим категориальные данные на согласованность**"
   ]
  },
  {
   "cell_type": "code",
   "execution_count": 19,
   "metadata": {},
   "outputs": [
    {
     "name": "stdout",
     "output_type": "stream",
     "text": [
      "Home Ownership\n"
     ]
    },
    {
     "data": {
      "image/png": "[encoded data removed]",
      "text/plain": [
       "<Figure size 864x720 with 2 Axes>"
      ]
     },
     "metadata": {
      "needs_background": "light"
     },
     "output_type": "display_data"
    },
    {
     "name": "stdout",
     "output_type": "stream",
     "text": [
      "Years in current job\n"
     ]
    },
    {
     "data": {
      "image/png": "[encoded data removed]",
      "text/plain": [
       "<Figure size 864x720 with 2 Axes>"
      ]
     },
     "metadata": {
      "needs_background": "light"
     },
     "output_type": "display_data"
    },
    {
     "name": "stdout",
     "output_type": "stream",
     "text": [
      "Purpose\n"
     ]
    },
    {
     "data": {
      "image/png": "[encoded data removed]",
      "text/plain": [
       "<Figure size 864x720 with 2 Axes>"
      ]
     },
     "metadata": {
      "needs_background": "light"
     },
     "output_type": "display_data"
    },
    {
     "name": "stdout",
     "output_type": "stream",
     "text": [
      "Term\n"
     ]
    },
    {
     "data": {
      "image/png": "[encoded data removed]",
      "text/plain": [
       "<Figure size 864x720 with 2 Axes>"
      ]
     },
     "metadata": {
      "needs_background": "light"
     },
     "output_type": "display_data"
    }
   ],
   "source": [
    "for col in category_cols:\n",
    "    print(col)\n",
    "    fig, ax = plt.subplots(2,1,figsize=(12,10))\n",
    "    train_temp = train_full[col].value_counts()\n",
    "    test_temp = test_full[col].value_counts()\n",
    "    ax[0].set_title('Train Dataset')\n",
    "    ax[1].set_title('Test Dataset')\n",
    "    ax[0].set_xticklabels(labels=train_temp.index, fontsize = 9, rotation=20)\n",
    "    ax[1].set_xticklabels(labels=test_temp.index, fontsize = 9, rotation=90)\n",
    "    sns.barplot(x=train_temp.index, y=train_temp.values, color='b', ax=ax[0])\n",
    "    sns.barplot(x=test_temp.index, y=test_temp.values, color='g', ax=ax[1])\n",
    "    plt.show()\n"
   ]
  },
  {
   "cell_type": "markdown",
   "metadata": {},
   "source": [
    "Найдена категория renewable_energy в purpose, которая отсутствует в тестовом датасете. Его мы можем удалить из тренировочного датасета."
   ]
  },
  {
   "cell_type": "code",
   "execution_count": 20,
   "metadata": {},
   "outputs": [
    {
     "data": {
      "text/html": [
       "<div>\n",
       "<style scoped>\n",
       "    .dataframe tbody tr th:only-of-type {\n",
       "        vertical-align: middle;\n",
       "    }\n",
       "\n",
       "    .dataframe tbody tr th {\n",
       "        vertical-align: top;\n",
       "    }\n",
       "\n",
       "    .dataframe thead th {\n",
       "        text-align: right;\n",
       "    }\n",
       "</style>\n",
       "<table border=\"1\" class=\"dataframe\">\n",
       "  <thead>\n",
       "    <tr style=\"text-align: right;\">\n",
       "      <th></th>\n",
       "      <th>Annual Income</th>\n",
       "      <th>Tax Liens</th>\n",
       "      <th>Number of Open Accounts</th>\n",
       "      <th>Years of Credit History</th>\n",
       "      <th>Maximum Open Credit</th>\n",
       "      <th>Number of Credit Problems</th>\n",
       "      <th>Months since last delinquent</th>\n",
       "      <th>Bankruptcies</th>\n",
       "      <th>Current Loan Amount</th>\n",
       "      <th>Current Credit Balance</th>\n",
       "      <th>Monthly Debt</th>\n",
       "      <th>Credit Score</th>\n",
       "      <th>Credit Default</th>\n",
       "      <th>Delinquent in past</th>\n",
       "    </tr>\n",
       "  </thead>\n",
       "  <tbody>\n",
       "    <tr>\n",
       "      <th>count</th>\n",
       "      <td>7.500000e+03</td>\n",
       "      <td>7500.000000</td>\n",
       "      <td>7500.000000</td>\n",
       "      <td>7500.000000</td>\n",
       "      <td>7.500000e+03</td>\n",
       "      <td>7500.000000</td>\n",
       "      <td>7500.000000</td>\n",
       "      <td>7500.000000</td>\n",
       "      <td>7.500000e+03</td>\n",
       "      <td>7.500000e+03</td>\n",
       "      <td>7500.000000</td>\n",
       "      <td>7500.000000</td>\n",
       "      <td>7500.000000</td>\n",
       "      <td>7500.000000</td>\n",
       "    </tr>\n",
       "    <tr>\n",
       "      <th>mean</th>\n",
       "      <td>1.325286e+06</td>\n",
       "      <td>0.030133</td>\n",
       "      <td>11.130933</td>\n",
       "      <td>18.317467</td>\n",
       "      <td>9.451537e+05</td>\n",
       "      <td>0.170000</td>\n",
       "      <td>15.815200</td>\n",
       "      <td>0.116933</td>\n",
       "      <td>1.187318e+07</td>\n",
       "      <td>2.898332e+05</td>\n",
       "      <td>18314.454133</td>\n",
       "      <td>1063.877333</td>\n",
       "      <td>0.281733</td>\n",
       "      <td>0.453467</td>\n",
       "    </tr>\n",
       "    <tr>\n",
       "      <th>std</th>\n",
       "      <td>7.567551e+05</td>\n",
       "      <td>0.271604</td>\n",
       "      <td>4.908924</td>\n",
       "      <td>7.041946</td>\n",
       "      <td>1.602622e+07</td>\n",
       "      <td>0.498598</td>\n",
       "      <td>22.649441</td>\n",
       "      <td>0.346904</td>\n",
       "      <td>3.192612e+07</td>\n",
       "      <td>3.178714e+05</td>\n",
       "      <td>11926.764673</td>\n",
       "      <td>1438.335832</td>\n",
       "      <td>0.449874</td>\n",
       "      <td>0.497863</td>\n",
       "    </tr>\n",
       "    <tr>\n",
       "      <th>min</th>\n",
       "      <td>1.645970e+05</td>\n",
       "      <td>0.000000</td>\n",
       "      <td>2.000000</td>\n",
       "      <td>4.000000</td>\n",
       "      <td>0.000000e+00</td>\n",
       "      <td>0.000000</td>\n",
       "      <td>0.000000</td>\n",
       "      <td>0.000000</td>\n",
       "      <td>1.124200e+04</td>\n",
       "      <td>0.000000e+00</td>\n",
       "      <td>0.000000</td>\n",
       "      <td>585.000000</td>\n",
       "      <td>0.000000</td>\n",
       "      <td>0.000000</td>\n",
       "    </tr>\n",
       "    <tr>\n",
       "      <th>25%</th>\n",
       "      <td>9.311330e+05</td>\n",
       "      <td>0.000000</td>\n",
       "      <td>8.000000</td>\n",
       "      <td>13.500000</td>\n",
       "      <td>2.792295e+05</td>\n",
       "      <td>0.000000</td>\n",
       "      <td>0.000000</td>\n",
       "      <td>0.000000</td>\n",
       "      <td>1.801690e+05</td>\n",
       "      <td>1.142565e+05</td>\n",
       "      <td>10067.500000</td>\n",
       "      <td>718.000000</td>\n",
       "      <td>0.000000</td>\n",
       "      <td>0.000000</td>\n",
       "    </tr>\n",
       "    <tr>\n",
       "      <th>50%</th>\n",
       "      <td>1.168386e+06</td>\n",
       "      <td>0.000000</td>\n",
       "      <td>10.000000</td>\n",
       "      <td>17.000000</td>\n",
       "      <td>4.781590e+05</td>\n",
       "      <td>0.000000</td>\n",
       "      <td>0.000000</td>\n",
       "      <td>0.000000</td>\n",
       "      <td>3.095730e+05</td>\n",
       "      <td>2.093230e+05</td>\n",
       "      <td>16076.500000</td>\n",
       "      <td>731.000000</td>\n",
       "      <td>0.000000</td>\n",
       "      <td>0.000000</td>\n",
       "    </tr>\n",
       "    <tr>\n",
       "      <th>75%</th>\n",
       "      <td>1.499974e+06</td>\n",
       "      <td>0.000000</td>\n",
       "      <td>14.000000</td>\n",
       "      <td>21.800000</td>\n",
       "      <td>7.935015e+05</td>\n",
       "      <td>0.000000</td>\n",
       "      <td>29.000000</td>\n",
       "      <td>0.000000</td>\n",
       "      <td>5.198820e+05</td>\n",
       "      <td>3.604062e+05</td>\n",
       "      <td>23818.000000</td>\n",
       "      <td>740.000000</td>\n",
       "      <td>1.000000</td>\n",
       "      <td>1.000000</td>\n",
       "    </tr>\n",
       "    <tr>\n",
       "      <th>max</th>\n",
       "      <td>1.014934e+07</td>\n",
       "      <td>7.000000</td>\n",
       "      <td>43.000000</td>\n",
       "      <td>57.700000</td>\n",
       "      <td>1.304726e+09</td>\n",
       "      <td>7.000000</td>\n",
       "      <td>118.000000</td>\n",
       "      <td>4.000000</td>\n",
       "      <td>1.000000e+08</td>\n",
       "      <td>6.506797e+06</td>\n",
       "      <td>136679.000000</td>\n",
       "      <td>7510.000000</td>\n",
       "      <td>1.000000</td>\n",
       "      <td>1.000000</td>\n",
       "    </tr>\n",
       "  </tbody>\n",
       "</table>\n",
       "</div>"
      ],
      "text/plain": [
       "       Annual Income    Tax Liens  Number of Open Accounts  \\\n",
       "count   7.500000e+03  7500.000000              7500.000000   \n",
       "mean    1.325286e+06     0.030133                11.130933   \n",
       "std     7.567551e+05     0.271604                 4.908924   \n",
       "min     1.645970e+05     0.000000                 2.000000   \n",
       "25%     9.311330e+05     0.000000                 8.000000   \n",
       "50%     1.168386e+06     0.000000                10.000000   \n",
       "75%     1.499974e+06     0.000000                14.000000   \n",
       "max     1.014934e+07     7.000000                43.000000   \n",
       "\n",
       "       Years of Credit History  Maximum Open Credit  \\\n",
       "count              7500.000000         7.500000e+03   \n",
       "mean                 18.317467         9.451537e+05   \n",
       "std                   7.041946         1.602622e+07   \n",
       "min                   4.000000         0.000000e+00   \n",
       "25%                  13.500000         2.792295e+05   \n",
       "50%                  17.000000         4.781590e+05   \n",
       "75%                  21.800000         7.935015e+05   \n",
       "max                  57.700000         1.304726e+09   \n",
       "\n",
       "       Number of Credit Problems  Months since last delinquent  Bankruptcies  \\\n",
       "count                7500.000000                   7500.000000   7500.000000   \n",
       "mean                    0.170000                     15.815200      0.116933   \n",
       "std                     0.498598                     22.649441      0.346904   \n",
       "min                     0.000000                      0.000000      0.000000   \n",
       "25%                     0.000000                      0.000000      0.000000   \n",
       "50%                     0.000000                      0.000000      0.000000   \n",
       "75%                     0.000000                     29.000000      0.000000   \n",
       "max                     7.000000                    118.000000      4.000000   \n",
       "\n",
       "       Current Loan Amount  Current Credit Balance   Monthly Debt  \\\n",
       "count         7.500000e+03            7.500000e+03    7500.000000   \n",
       "mean          1.187318e+07            2.898332e+05   18314.454133   \n",
       "std           3.192612e+07            3.178714e+05   11926.764673   \n",
       "min           1.124200e+04            0.000000e+00       0.000000   \n",
       "25%           1.801690e+05            1.142565e+05   10067.500000   \n",
       "50%           3.095730e+05            2.093230e+05   16076.500000   \n",
       "75%           5.198820e+05            3.604062e+05   23818.000000   \n",
       "max           1.000000e+08            6.506797e+06  136679.000000   \n",
       "\n",
       "       Credit Score  Credit Default  Delinquent in past  \n",
       "count   7500.000000     7500.000000         7500.000000  \n",
       "mean    1063.877333        0.281733            0.453467  \n",
       "std     1438.335832        0.449874            0.497863  \n",
       "min      585.000000        0.000000            0.000000  \n",
       "25%      718.000000        0.000000            0.000000  \n",
       "50%      731.000000        0.000000            0.000000  \n",
       "75%      740.000000        1.000000            1.000000  \n",
       "max     7510.000000        1.000000            1.000000  "
      ]
     },
     "metadata": {},
     "output_type": "display_data"
    },
    {
     "data": {
      "text/html": [
       "<div>\n",
       "<style scoped>\n",
       "    .dataframe tbody tr th:only-of-type {\n",
       "        vertical-align: middle;\n",
       "    }\n",
       "\n",
       "    .dataframe tbody tr th {\n",
       "        vertical-align: top;\n",
       "    }\n",
       "\n",
       "    .dataframe thead th {\n",
       "        text-align: right;\n",
       "    }\n",
       "</style>\n",
       "<table border=\"1\" class=\"dataframe\">\n",
       "  <thead>\n",
       "    <tr style=\"text-align: right;\">\n",
       "      <th></th>\n",
       "      <th>Annual Income</th>\n",
       "      <th>Tax Liens</th>\n",
       "      <th>Number of Open Accounts</th>\n",
       "      <th>Years of Credit History</th>\n",
       "      <th>Maximum Open Credit</th>\n",
       "      <th>Number of Credit Problems</th>\n",
       "      <th>Months since last delinquent</th>\n",
       "      <th>Bankruptcies</th>\n",
       "      <th>Current Loan Amount</th>\n",
       "      <th>Current Credit Balance</th>\n",
       "      <th>Monthly Debt</th>\n",
       "      <th>Credit Score</th>\n",
       "      <th>Delinquent in past</th>\n",
       "    </tr>\n",
       "  </thead>\n",
       "  <tbody>\n",
       "    <tr>\n",
       "      <th>count</th>\n",
       "      <td>2.500000e+03</td>\n",
       "      <td>2500.000000</td>\n",
       "      <td>2500.000000</td>\n",
       "      <td>2500.000000</td>\n",
       "      <td>2.500000e+03</td>\n",
       "      <td>2500.000000</td>\n",
       "      <td>2500.000000</td>\n",
       "      <td>2500.000000</td>\n",
       "      <td>2.500000e+03</td>\n",
       "      <td>2.500000e+03</td>\n",
       "      <td>2500.000000</td>\n",
       "      <td>2500.00000</td>\n",
       "      <td>2500.000000</td>\n",
       "    </tr>\n",
       "    <tr>\n",
       "      <th>mean</th>\n",
       "      <td>1.328252e+06</td>\n",
       "      <td>0.035200</td>\n",
       "      <td>11.184400</td>\n",
       "      <td>18.325920</td>\n",
       "      <td>7.105704e+05</td>\n",
       "      <td>0.162000</td>\n",
       "      <td>15.614000</td>\n",
       "      <td>0.106800</td>\n",
       "      <td>1.215572e+07</td>\n",
       "      <td>2.963966e+05</td>\n",
       "      <td>18271.340000</td>\n",
       "      <td>1131.19520</td>\n",
       "      <td>0.453600</td>\n",
       "    </tr>\n",
       "    <tr>\n",
       "      <th>std</th>\n",
       "      <td>8.211249e+05</td>\n",
       "      <td>0.386291</td>\n",
       "      <td>4.852774</td>\n",
       "      <td>7.254659</td>\n",
       "      <td>1.511983e+06</td>\n",
       "      <td>0.559894</td>\n",
       "      <td>22.616348</td>\n",
       "      <td>0.356994</td>\n",
       "      <td>3.226097e+07</td>\n",
       "      <td>3.783020e+05</td>\n",
       "      <td>11543.881469</td>\n",
       "      <td>1564.62781</td>\n",
       "      <td>0.497942</td>\n",
       "    </tr>\n",
       "    <tr>\n",
       "      <th>min</th>\n",
       "      <td>1.065330e+05</td>\n",
       "      <td>0.000000</td>\n",
       "      <td>1.000000</td>\n",
       "      <td>3.900000</td>\n",
       "      <td>0.000000e+00</td>\n",
       "      <td>0.000000</td>\n",
       "      <td>0.000000</td>\n",
       "      <td>0.000000</td>\n",
       "      <td>1.542200e+04</td>\n",
       "      <td>0.000000e+00</td>\n",
       "      <td>93.000000</td>\n",
       "      <td>585.00000</td>\n",
       "      <td>0.000000</td>\n",
       "    </tr>\n",
       "    <tr>\n",
       "      <th>25%</th>\n",
       "      <td>9.365622e+05</td>\n",
       "      <td>0.000000</td>\n",
       "      <td>8.000000</td>\n",
       "      <td>13.400000</td>\n",
       "      <td>2.785860e+05</td>\n",
       "      <td>0.000000</td>\n",
       "      <td>0.000000</td>\n",
       "      <td>0.000000</td>\n",
       "      <td>1.871265e+05</td>\n",
       "      <td>1.101145e+05</td>\n",
       "      <td>10024.750000</td>\n",
       "      <td>717.00000</td>\n",
       "      <td>0.000000</td>\n",
       "    </tr>\n",
       "    <tr>\n",
       "      <th>50%</th>\n",
       "      <td>1.178475e+06</td>\n",
       "      <td>0.000000</td>\n",
       "      <td>10.000000</td>\n",
       "      <td>17.000000</td>\n",
       "      <td>4.786760e+05</td>\n",
       "      <td>0.000000</td>\n",
       "      <td>0.000000</td>\n",
       "      <td>0.000000</td>\n",
       "      <td>3.223660e+05</td>\n",
       "      <td>2.073850e+05</td>\n",
       "      <td>16642.500000</td>\n",
       "      <td>731.00000</td>\n",
       "      <td>0.000000</td>\n",
       "    </tr>\n",
       "    <tr>\n",
       "      <th>75%</th>\n",
       "      <td>1.488726e+06</td>\n",
       "      <td>0.000000</td>\n",
       "      <td>14.000000</td>\n",
       "      <td>22.100000</td>\n",
       "      <td>8.025985e+05</td>\n",
       "      <td>0.000000</td>\n",
       "      <td>27.000000</td>\n",
       "      <td>0.000000</td>\n",
       "      <td>5.225825e+05</td>\n",
       "      <td>3.663485e+05</td>\n",
       "      <td>24146.000000</td>\n",
       "      <td>741.00000</td>\n",
       "      <td>1.000000</td>\n",
       "    </tr>\n",
       "    <tr>\n",
       "      <th>max</th>\n",
       "      <td>1.497561e+07</td>\n",
       "      <td>15.000000</td>\n",
       "      <td>48.000000</td>\n",
       "      <td>53.400000</td>\n",
       "      <td>5.448439e+07</td>\n",
       "      <td>15.000000</td>\n",
       "      <td>82.000000</td>\n",
       "      <td>5.000000</td>\n",
       "      <td>1.000000e+08</td>\n",
       "      <td>6.030087e+06</td>\n",
       "      <td>93555.000000</td>\n",
       "      <td>7480.00000</td>\n",
       "      <td>1.000000</td>\n",
       "    </tr>\n",
       "  </tbody>\n",
       "</table>\n",
       "</div>"
      ],
      "text/plain": [
       "       Annual Income    Tax Liens  Number of Open Accounts  \\\n",
       "count   2.500000e+03  2500.000000              2500.000000   \n",
       "mean    1.328252e+06     0.035200                11.184400   \n",
       "std     8.211249e+05     0.386291                 4.852774   \n",
       "min     1.065330e+05     0.000000                 1.000000   \n",
       "25%     9.365622e+05     0.000000                 8.000000   \n",
       "50%     1.178475e+06     0.000000                10.000000   \n",
       "75%     1.488726e+06     0.000000                14.000000   \n",
       "max     1.497561e+07    15.000000                48.000000   \n",
       "\n",
       "       Years of Credit History  Maximum Open Credit  \\\n",
       "count              2500.000000         2.500000e+03   \n",
       "mean                 18.325920         7.105704e+05   \n",
       "std                   7.254659         1.511983e+06   \n",
       "min                   3.900000         0.000000e+00   \n",
       "25%                  13.400000         2.785860e+05   \n",
       "50%                  17.000000         4.786760e+05   \n",
       "75%                  22.100000         8.025985e+05   \n",
       "max                  53.400000         5.448439e+07   \n",
       "\n",
       "       Number of Credit Problems  Months since last delinquent  Bankruptcies  \\\n",
       "count                2500.000000                   2500.000000   2500.000000   \n",
       "mean                    0.162000                     15.614000      0.106800   \n",
       "std                     0.559894                     22.616348      0.356994   \n",
       "min                     0.000000                      0.000000      0.000000   \n",
       "25%                     0.000000                      0.000000      0.000000   \n",
       "50%                     0.000000                      0.000000      0.000000   \n",
       "75%                     0.000000                     27.000000      0.000000   \n",
       "max                    15.000000                     82.000000      5.000000   \n",
       "\n",
       "       Current Loan Amount  Current Credit Balance  Monthly Debt  \\\n",
       "count         2.500000e+03            2.500000e+03   2500.000000   \n",
       "mean          1.215572e+07            2.963966e+05  18271.340000   \n",
       "std           3.226097e+07            3.783020e+05  11543.881469   \n",
       "min           1.542200e+04            0.000000e+00     93.000000   \n",
       "25%           1.871265e+05            1.101145e+05  10024.750000   \n",
       "50%           3.223660e+05            2.073850e+05  16642.500000   \n",
       "75%           5.225825e+05            3.663485e+05  24146.000000   \n",
       "max           1.000000e+08            6.030087e+06  93555.000000   \n",
       "\n",
       "       Credit Score  Delinquent in past  \n",
       "count    2500.00000         2500.000000  \n",
       "mean     1131.19520            0.453600  \n",
       "std      1564.62781            0.497942  \n",
       "min       585.00000            0.000000  \n",
       "25%       717.00000            0.000000  \n",
       "50%       731.00000            0.000000  \n",
       "75%       741.00000            1.000000  \n",
       "max      7480.00000            1.000000  "
      ]
     },
     "metadata": {},
     "output_type": "display_data"
    }
   ],
   "source": [
    "display(train_full.describe())\n",
    "display(test_full.describe())"
   ]
  },
  {
   "cell_type": "markdown",
   "metadata": {},
   "source": [
    "Подсчитаем количество выбросов на тренировочном датасете"
   ]
  },
  {
   "cell_type": "code",
   "execution_count": 21,
   "metadata": {},
   "outputs": [],
   "source": [
    "limits = {\n",
    "    'Annual Income': 7500000,\n",
    "    'Years of Credit History': 50,\n",
    "    'Maximum Open Credit': 1e9,\n",
    "    'Months since last delinquent': 100,\n",
    "    'Monthly Debt': 80000,\n",
    "    'Number of Open Accounts': 40\n",
    "}"
   ]
  },
  {
   "cell_type": "code",
   "execution_count": 22,
   "metadata": {},
   "outputs": [
    {
     "name": "stdout",
     "output_type": "stream",
     "text": [
      "На \"Annual Income\": 14\n",
      "На \"Years of Credit History\": 9\n",
      "На \"Maximum Open Credit\": 1\n",
      "На \"Months since last delinquent\": 1\n",
      "На \"Monthly Debt\": 17\n",
      "На \"Number of Open Accounts\": 3\n",
      "Общее количество выбросов: 47\n"
     ]
    }
   ],
   "source": [
    "total_outliers = []\n",
    "\n",
    "for key, value in limits.items():\n",
    "    target_index = train_full.loc[train_full[key]>=value].index\n",
    "    total_outliers.extend(target_index)\n",
    "    print(f'На \"{key}\": {len(target_index)}')\n",
    "\n",
    "target_index = train_full.loc[train_full['Purpose']=='renewable energy'].index \n",
    "total_outliers.extend(target_index)\n",
    "\n",
    "total_outliers = list(set(total_outliers))\n",
    "print(f'Общее количество выбросов: {len(total_outliers)}')"
   ]
  },
  {
   "cell_type": "markdown",
   "metadata": {},
   "source": [
    "**Удалим выбросы**"
   ]
  },
  {
   "cell_type": "code",
   "execution_count": 23,
   "metadata": {},
   "outputs": [
    {
     "name": "stdout",
     "output_type": "stream",
     "text": [
      "(7453, 18)\n"
     ]
    }
   ],
   "source": [
    "train_full.drop(index=total_outliers, axis=0, inplace=True)\n",
    "print(train_full.shape)"
   ]
  },
  {
   "cell_type": "markdown",
   "metadata": {},
   "source": [
    "**Преобразование данных**"
   ]
  },
  {
   "cell_type": "markdown",
   "metadata": {},
   "source": [
    "Float to INT"
   ]
  },
  {
   "cell_type": "code",
   "execution_count": 24,
   "metadata": {},
   "outputs": [],
   "source": [
    "cols_to_int = ['Tax Liens', 'Number of Open Accounts', 'Number of Credit Problems', 'Bankruptcies']\n",
    "for col in cols_to_int:\n",
    "    train_full[col] = train_full[col].astype(int)\n",
    "    test_full[col] = test_full[col].astype(int)"
   ]
  },
  {
   "cell_type": "code",
   "execution_count": 25,
   "metadata": {},
   "outputs": [],
   "source": [
    "cols_to_cat = ['Home Ownership', 'Years in current job', 'Purpose', 'Term', 'Delinquent in past']\n",
    "for col in cols_to_cat:\n",
    "    train_full[col] = train_full[col].astype(\"category\")\n",
    "    test_full[col] = test_full[col].astype(\"category\")"
   ]
  },
  {
   "cell_type": "code",
   "execution_count": 26,
   "metadata": {},
   "outputs": [],
   "source": [
    "y_train = train_full['Credit Default']\n",
    "X_train = train_full.drop(columns=['Credit Default'], axis=1)\n",
    "X_test = test_full.copy()\n",
    "\n",
    "X_train = pd.get_dummies(X_train, drop_first=True)\n",
    "X_test = pd.get_dummies(X_test, drop_first=True)\n",
    "\n",
    "X_train = X_train.rename(columns={'Years in current job_< 1 year':'Years in current job_less 1 year'})\n",
    "X_test = X_test.rename(columns={'Years in current job_< 1 year':'Years in current job_less 1 year'})"
   ]
  },
  {
   "cell_type": "code",
   "execution_count": 27,
   "metadata": {},
   "outputs": [
    {
     "data": {
      "text/plain": [
       "(7453,)"
      ]
     },
     "metadata": {},
     "output_type": "display_data"
    },
    {
     "data": {
      "text/plain": [
       "(7453, 40)"
      ]
     },
     "metadata": {},
     "output_type": "display_data"
    },
    {
     "data": {
      "text/plain": [
       "(2500, 40)"
      ]
     },
     "metadata": {},
     "output_type": "display_data"
    }
   ],
   "source": [
    "display(y_train.shape, X_train.shape, X_test.shape)"
   ]
  },
  {
   "cell_type": "markdown",
   "metadata": {},
   "source": [
    "### Анализ главных компонент (PCA) и Корреляции"
   ]
  },
  {
   "cell_type": "markdown",
   "metadata": {},
   "source": [
    "**основные этапы**\n",
    "- Визуальный анализ Целевой переменной\n",
    "- Корелляционный анализ\n",
    "- Изучение наличия кластеров\n",
    "- PCA\n",
    "- Итоговое разбиение данных для обучения"
   ]
  },
  {
   "cell_type": "markdown",
   "metadata": {},
   "source": [
    "**Визуальный анализ целевой переменной**"
   ]
  },
  {
   "cell_type": "code",
   "execution_count": 28,
   "metadata": {},
   "outputs": [
    {
     "data": {
      "image/png": "[encoded data removed]",
      "text/plain": [
       "<Figure size 720x288 with 2 Axes>"
      ]
     },
     "metadata": {
      "needs_background": "light"
     },
     "output_type": "display_data"
    },
    {
     "name": "stdout",
     "output_type": "stream",
     "text": [
      "class values\n"
     ]
    },
    {
     "data": {
      "text/plain": [
       "0    5355\n",
       "1    2098\n",
       "Name: Credit Default, dtype: int64"
      ]
     },
     "metadata": {},
     "output_type": "display_data"
    }
   ],
   "source": [
    "fig, ax = plt.subplots(1,2,figsize=(10,4))\n",
    "ax[0].set_title('class distribution - absolute values')\n",
    "ax[1].set_title('class distribution - in percent')\n",
    "sns.barplot(list(y_train.value_counts().index), list(y_train.value_counts()), ax=ax[0])\n",
    "labels_percent = [f'{i}: {round(j/len(y_train),2)*100}%' for i,j \n",
    "                  in zip(y_train.value_counts().index, y_train.value_counts())]\n",
    "ax[1].pie(list(y_train.value_counts()/len(y_train)), labels=labels_percent)\n",
    "plt.show()\n",
    "\n",
    "print('class values')\n",
    "display(y_train.value_counts())"
   ]
  },
  {
   "cell_type": "markdown",
   "metadata": {},
   "source": [
    "**Корелляционный анализ**"
   ]
  },
  {
   "cell_type": "code",
   "execution_count": 29,
   "metadata": {},
   "outputs": [],
   "source": [
    "cols_to_analyze = ['Tax Liens', 'Number of Credit Problems', 'Bankruptcies']"
   ]
  },
  {
   "cell_type": "code",
   "execution_count": 30,
   "metadata": {},
   "outputs": [],
   "source": [
    "def correlation_map(corr_matrix):\n",
    "    \"plot given correlation matrix in heatmap style\"\n",
    "    fig = plt.figure(figsize=(8,6))\n",
    "    ax = plt.axes()\n",
    "    ax.set_title('HEATMAP for Pearson correllation coef')\n",
    "    sns.heatmap(corr_matrix, square=True,ax=ax,cmap='PuBu');"
   ]
  },
  {
   "cell_type": "markdown",
   "metadata": {},
   "source": [
    "**Корелляция непрерывных данных**"
   ]
  },
  {
   "cell_type": "code",
   "execution_count": 31,
   "metadata": {},
   "outputs": [
    {
     "data": {
      "image/png": "[encoded data removed]",
      "text/plain": [
       "<Figure size 576x432 with 2 Axes>"
      ]
     },
     "metadata": {
      "needs_background": "light"
     },
     "output_type": "display_data"
    }
   ],
   "source": [
    "corr_matrix = X_train[cols_to_analyze].corr()\n",
    "correlation_map(corr_matrix)"
   ]
  },
  {
   "cell_type": "markdown",
   "metadata": {},
   "source": [
    "**Корелляция всех признаков**"
   ]
  },
  {
   "cell_type": "code",
   "execution_count": 32,
   "metadata": {},
   "outputs": [
    {
     "data": {
      "text/plain": [
       "{'Bankruptcies-Number of Credit Problems': 0.7336271171576971,\n",
       " 'Delinquent in past_1-Months since last delinquent': 0.7673654712903575,\n",
       " 'Number of Credit Problems-Bankruptcies': 0.7336271171576971,\n",
       " 'Home Ownership_Rent-Home Ownership_Home Mortgage': -0.8386480704265621,\n",
       " 'Home Ownership_Home Mortgage-Home Ownership_Rent': -0.8386480704265621,\n",
       " 'Months since last delinquent-Delinquent in past_1': 0.7673654712903575}"
      ]
     },
     "metadata": {},
     "output_type": "display_data"
    },
    {
     "data": {
      "image/png": "[encoded data removed]",
      "text/plain": [
       "<Figure size 576x432 with 2 Axes>"
      ]
     },
     "metadata": {
      "needs_background": "light"
     },
     "output_type": "display_data"
    }
   ],
   "source": [
    "corr_matrix = X_train.corr()\n",
    "correlation_map(corr_matrix)\n",
    "\n",
    "correlated_features = dict()\n",
    "corr_threshold = 0.7\n",
    "\n",
    "for col in corr_matrix.columns:\n",
    "    for row in corr_matrix[col].index:\n",
    "        if corr_threshold < abs(corr_matrix.loc[row, col]) < 1.0:\n",
    "            pair = f'{row}-{col}'\n",
    "            correlated_features[pair] = corr_matrix.loc[row, col]\n",
    "\n",
    "display(correlated_features)"
   ]
  },
  {
   "cell_type": "markdown",
   "metadata": {},
   "source": [
    "удалим столбец Home Ownership_Rent"
   ]
  },
  {
   "cell_type": "code",
   "execution_count": 33,
   "metadata": {},
   "outputs": [],
   "source": [
    "X_train.drop(columns=['Home Ownership_Rent'], axis=1, inplace=True)\n",
    "X_test.drop(columns=['Home Ownership_Rent'], axis=1, inplace=True)"
   ]
  },
  {
   "cell_type": "markdown",
   "metadata": {
    "pycharm": {
     "name": "#%% md\n"
    }
   },
   "source": [
    "для переменных Банкроство и Credit Problems создадим общую переменную - ПРОИЗВЕДЕНИЕ: Bankrupt_Problem_Credit"
   ]
  },
  {
   "cell_type": "code",
   "execution_count": 34,
   "metadata": {
    "pycharm": {
     "name": "#%%\n"
    }
   },
   "outputs": [
    {
     "data": {
      "text/plain": [
       "((7453, 38), (2500, 38))"
      ]
     },
     "execution_count": 34,
     "metadata": {},
     "output_type": "execute_result"
    }
   ],
   "source": [
    "relation_train = X_train['Bankruptcies'] * X_train['Number of Credit Problems']\n",
    "relation_test = X_test['Bankruptcies'] * X_test['Number of Credit Problems']\n",
    "\n",
    "X_train['Bankrupt_Problem_Credit'] = relation_train\n",
    "X_test['Bankrupt_Problem_Credit'] = relation_test\n",
    "\n",
    "X_train.drop(columns=['Bankruptcies', 'Number of Credit Problems'], axis=1, inplace=True)\n",
    "X_test.drop(columns=['Bankruptcies', 'Number of Credit Problems'], axis=1, inplace=True)\n",
    "\n",
    "X_train.shape, X_test.shape"
   ]
  },
  {
   "cell_type": "markdown",
   "metadata": {},
   "source": [
    "**Подбор параметров PCA**"
   ]
  },
  {
   "cell_type": "code",
   "execution_count": 35,
   "metadata": {},
   "outputs": [
    {
     "data": {
      "text/html": [
       "<div>\n",
       "<style scoped>\n",
       "    .dataframe tbody tr th:only-of-type {\n",
       "        vertical-align: middle;\n",
       "    }\n",
       "\n",
       "    .dataframe tbody tr th {\n",
       "        vertical-align: top;\n",
       "    }\n",
       "\n",
       "    .dataframe thead th {\n",
       "        text-align: right;\n",
       "    }\n",
       "</style>\n",
       "<table border=\"1\" class=\"dataframe\">\n",
       "  <thead>\n",
       "    <tr style=\"text-align: right;\">\n",
       "      <th></th>\n",
       "      <th>Annual Income</th>\n",
       "      <th>Tax Liens</th>\n",
       "      <th>Number of Open Accounts</th>\n",
       "      <th>Years of Credit History</th>\n",
       "      <th>Maximum Open Credit</th>\n",
       "      <th>Months since last delinquent</th>\n",
       "      <th>Current Loan Amount</th>\n",
       "      <th>Current Credit Balance</th>\n",
       "      <th>Monthly Debt</th>\n",
       "      <th>Credit Score</th>\n",
       "      <th>Home Ownership_Home Mortgage</th>\n",
       "      <th>Home Ownership_Own Home</th>\n",
       "    </tr>\n",
       "  </thead>\n",
       "  <tbody>\n",
       "    <tr>\n",
       "      <th>count</th>\n",
       "      <td>7453.000000</td>\n",
       "      <td>7453.000000</td>\n",
       "      <td>7453.000000</td>\n",
       "      <td>7453.000000</td>\n",
       "      <td>7453.000000</td>\n",
       "      <td>7453.000000</td>\n",
       "      <td>7453.000000</td>\n",
       "      <td>7453.000000</td>\n",
       "      <td>7453.000000</td>\n",
       "      <td>7453.000000</td>\n",
       "      <td>7453.000000</td>\n",
       "      <td>7453.000000</td>\n",
       "    </tr>\n",
       "    <tr>\n",
       "      <th>mean</th>\n",
       "      <td>0.156096</td>\n",
       "      <td>0.004198</td>\n",
       "      <td>0.252777</td>\n",
       "      <td>0.316236</td>\n",
       "      <td>0.002015</td>\n",
       "      <td>0.172013</td>\n",
       "      <td>0.118548</td>\n",
       "      <td>0.043908</td>\n",
       "      <td>0.226982</td>\n",
       "      <td>0.069216</td>\n",
       "      <td>0.484100</td>\n",
       "      <td>0.085871</td>\n",
       "    </tr>\n",
       "    <tr>\n",
       "      <th>std</th>\n",
       "      <td>0.092697</td>\n",
       "      <td>0.038405</td>\n",
       "      <td>0.134849</td>\n",
       "      <td>0.154071</td>\n",
       "      <td>0.014483</td>\n",
       "      <td>0.246152</td>\n",
       "      <td>0.319213</td>\n",
       "      <td>0.047071</td>\n",
       "      <td>0.141291</td>\n",
       "      <td>0.207826</td>\n",
       "      <td>0.499781</td>\n",
       "      <td>0.280193</td>\n",
       "    </tr>\n",
       "    <tr>\n",
       "      <th>min</th>\n",
       "      <td>0.000000</td>\n",
       "      <td>0.000000</td>\n",
       "      <td>0.000000</td>\n",
       "      <td>0.000000</td>\n",
       "      <td>0.000000</td>\n",
       "      <td>0.000000</td>\n",
       "      <td>0.000000</td>\n",
       "      <td>0.000000</td>\n",
       "      <td>0.000000</td>\n",
       "      <td>0.000000</td>\n",
       "      <td>0.000000</td>\n",
       "      <td>0.000000</td>\n",
       "    </tr>\n",
       "    <tr>\n",
       "      <th>25%</th>\n",
       "      <td>0.104667</td>\n",
       "      <td>0.000000</td>\n",
       "      <td>0.166667</td>\n",
       "      <td>0.210643</td>\n",
       "      <td>0.000731</td>\n",
       "      <td>0.000000</td>\n",
       "      <td>0.001686</td>\n",
       "      <td>0.017526</td>\n",
       "      <td>0.126260</td>\n",
       "      <td>0.019206</td>\n",
       "      <td>0.000000</td>\n",
       "      <td>0.000000</td>\n",
       "    </tr>\n",
       "    <tr>\n",
       "      <th>50%</th>\n",
       "      <td>0.137274</td>\n",
       "      <td>0.000000</td>\n",
       "      <td>0.222222</td>\n",
       "      <td>0.288248</td>\n",
       "      <td>0.001254</td>\n",
       "      <td>0.000000</td>\n",
       "      <td>0.002970</td>\n",
       "      <td>0.032050</td>\n",
       "      <td>0.200977</td>\n",
       "      <td>0.021083</td>\n",
       "      <td>0.000000</td>\n",
       "      <td>0.000000</td>\n",
       "    </tr>\n",
       "    <tr>\n",
       "      <th>75%</th>\n",
       "      <td>0.181971</td>\n",
       "      <td>0.000000</td>\n",
       "      <td>0.333333</td>\n",
       "      <td>0.394678</td>\n",
       "      <td>0.002080</td>\n",
       "      <td>0.315217</td>\n",
       "      <td>0.005057</td>\n",
       "      <td>0.054891</td>\n",
       "      <td>0.297423</td>\n",
       "      <td>0.022383</td>\n",
       "      <td>1.000000</td>\n",
       "      <td>0.000000</td>\n",
       "    </tr>\n",
       "    <tr>\n",
       "      <th>max</th>\n",
       "      <td>1.000000</td>\n",
       "      <td>1.000000</td>\n",
       "      <td>1.000000</td>\n",
       "      <td>1.000000</td>\n",
       "      <td>1.000000</td>\n",
       "      <td>1.000000</td>\n",
       "      <td>1.000000</td>\n",
       "      <td>1.000000</td>\n",
       "      <td>1.000000</td>\n",
       "      <td>1.000000</td>\n",
       "      <td>1.000000</td>\n",
       "      <td>1.000000</td>\n",
       "    </tr>\n",
       "  </tbody>\n",
       "</table>\n",
       "</div>"
      ],
      "text/plain": [
       "       Annual Income    Tax Liens  Number of Open Accounts  \\\n",
       "count    7453.000000  7453.000000              7453.000000   \n",
       "mean        0.156096     0.004198                 0.252777   \n",
       "std         0.092697     0.038405                 0.134849   \n",
       "min         0.000000     0.000000                 0.000000   \n",
       "25%         0.104667     0.000000                 0.166667   \n",
       "50%         0.137274     0.000000                 0.222222   \n",
       "75%         0.181971     0.000000                 0.333333   \n",
       "max         1.000000     1.000000                 1.000000   \n",
       "\n",
       "       Years of Credit History  Maximum Open Credit  \\\n",
       "count              7453.000000          7453.000000   \n",
       "mean                  0.316236             0.002015   \n",
       "std                   0.154071             0.014483   \n",
       "min                   0.000000             0.000000   \n",
       "25%                   0.210643             0.000731   \n",
       "50%                   0.288248             0.001254   \n",
       "75%                   0.394678             0.002080   \n",
       "max                   1.000000             1.000000   \n",
       "\n",
       "       Months since last delinquent  Current Loan Amount  \\\n",
       "count                   7453.000000          7453.000000   \n",
       "mean                       0.172013             0.118548   \n",
       "std                        0.246152             0.319213   \n",
       "min                        0.000000             0.000000   \n",
       "25%                        0.000000             0.001686   \n",
       "50%                        0.000000             0.002970   \n",
       "75%                        0.315217             0.005057   \n",
       "max                        1.000000             1.000000   \n",
       "\n",
       "       Current Credit Balance  Monthly Debt  Credit Score  \\\n",
       "count             7453.000000   7453.000000   7453.000000   \n",
       "mean                 0.043908      0.226982      0.069216   \n",
       "std                  0.047071      0.141291      0.207826   \n",
       "min                  0.000000      0.000000      0.000000   \n",
       "25%                  0.017526      0.126260      0.019206   \n",
       "50%                  0.032050      0.200977      0.021083   \n",
       "75%                  0.054891      0.297423      0.022383   \n",
       "max                  1.000000      1.000000      1.000000   \n",
       "\n",
       "       Home Ownership_Home Mortgage  Home Ownership_Own Home  \n",
       "count                   7453.000000              7453.000000  \n",
       "mean                       0.484100                 0.085871  \n",
       "std                        0.499781                 0.280193  \n",
       "min                        0.000000                 0.000000  \n",
       "25%                        0.000000                 0.000000  \n",
       "50%                        0.000000                 0.000000  \n",
       "75%                        1.000000                 0.000000  \n",
       "max                        1.000000                 1.000000  "
      ]
     },
     "execution_count": 35,
     "metadata": {},
     "output_type": "execute_result"
    }
   ],
   "source": [
    "from sklearn.preprocessing import MinMaxScaler\n",
    "scaler = MinMaxScaler()\n",
    "\n",
    "X_train_scaled = scaler.fit_transform(X_train.iloc[:,:12])\n",
    "X_train_scaled = pd.DataFrame(data = X_train_scaled, columns=X_train.iloc[:,:12].columns)\n",
    "X_train_scaled.describe()"
   ]
  },
  {
   "cell_type": "markdown",
   "metadata": {},
   "source": [
    "**PCA - поиск параметра**"
   ]
  },
  {
   "cell_type": "code",
   "execution_count": 36,
   "metadata": {},
   "outputs": [
    {
     "name": "stdout",
     "output_type": "stream",
     "text": [
      "Необходимое количество для 80.0%: 3\n",
      "Необходимое количество для 90.0%: 5\n",
      "Необходимое количество для 95.0%: 6\n",
      "Необходимое количество для 97.5%: 7\n",
      "Необходимое количество для 99.0%: 8\n"
     ]
    }
   ],
   "source": [
    "from sklearn.decomposition import PCA\n",
    "break_even = [0.8, 0.9, 0.95, 0.975, 0.99]\n",
    "\n",
    "pca = PCA()\n",
    "X_train_pca = pca.fit_transform(X_train_scaled)\n",
    "var_vector = np.cumsum(pca.explained_variance_ratio_)\n",
    "\n",
    "for level in break_even:\n",
    "    temp_list = []\n",
    "    for n in var_vector:\n",
    "        if n<=level: temp_list.append(n)\n",
    "    print(f'Необходимое количество для {level*100}%: {len(temp_list)}')  "
   ]
  },
  {
   "cell_type": "markdown",
   "metadata": {},
   "source": [
    "Таким образом можно сохранить 99% вариации, сократив пространство непрерывных признаков с 12 до 8, однако это не существенное уменьшение пространства, поэтому механика PCA применена не будет"
   ]
  },
  {
   "cell_type": "markdown",
   "metadata": {},
   "source": [
    "### Настройка гиперпараметров"
   ]
  },
  {
   "cell_type": "markdown",
   "metadata": {},
   "source": [
    "**Необходимые импорты**"
   ]
  },
  {
   "cell_type": "code",
   "execution_count": 37,
   "metadata": {},
   "outputs": [],
   "source": [
    "from sklearn.svm import SVC, LinearSVC\n",
    "from sklearn.linear_model import LogisticRegression\n",
    "from sklearn.naive_bayes import GaussianNB\n",
    "from sklearn.ensemble import RandomForestClassifier\n",
    "from sklearn.model_selection import GridSearchCV\n",
    "import xgboost as xgb, lightgbm as lgbm, catboost as catb\n",
    "from sklearn.metrics import classification_report, f1_score, confusion_matrix\n",
    "from sklearn.metrics import accuracy_score, recall_score, precision_score\n",
    "from sklearn.model_selection import KFold\n",
    "from imblearn.over_sampling import SMOTE\n",
    "from imblearn.pipeline import Pipeline as SM_Pipeline\n",
    "from sklearn.ensemble import AdaBoostClassifier"
   ]
  },
  {
   "cell_type": "markdown",
   "metadata": {},
   "source": [
    "**Подготовка данных и базовых настроек**"
   ]
  },
  {
   "cell_type": "code",
   "execution_count": 38,
   "metadata": {},
   "outputs": [],
   "source": [
    "X_train_reduced, X_valid, y_train_reduced, y_valid = train_test_split(X_train, y_train, test_size=1000, random_state=37)\n",
    "\n",
    "smote = SMOTE(sampling_strategy='auto', n_jobs=-1)\n",
    "cv_ = KFold(n_splits=10, shuffle=True, random_state=42)\n",
    "\n",
    "result_dict = dict()\n"
   ]
  },
  {
   "cell_type": "code",
   "execution_count": 39,
   "metadata": {},
   "outputs": [],
   "source": [
    "def parameters_parser(param_grid, model_label):\n",
    "    param_dict = dict()\n",
    "    for key, value in param_grid.items():\n",
    "        param_dict[model_label+\"__\"+key] = value\n",
    "    return param_dict"
   ]
  },
  {
   "cell_type": "code",
   "execution_count": 40,
   "metadata": {},
   "outputs": [],
   "source": [
    "def show_proba_calibration_plots(y_predicted_probs, y_true_labels, p_min, p_max, p_step):\n",
    "    y_predicted_probs = y_predicted_probs[:,1]\n",
    "    preds_with_true_labels = np.array(list(zip(y_predicted_probs, y_true_labels)))\n",
    "\n",
    "    thresholds = []\n",
    "    precisions = []\n",
    "    recalls = []\n",
    "    f1_scores = []\n",
    "\n",
    "    for threshold in np.linspace(p_min, p_max, p_step):\n",
    "        thresholds.append(threshold)\n",
    "        precisions.append(precision_score(y_true_labels, list(map(int, y_predicted_probs > threshold))))\n",
    "        recalls.append(recall_score(y_true_labels, list(map(int, y_predicted_probs > threshold))))\n",
    "        f1_scores.append(f1_score(y_true_labels, list(map(int, y_predicted_probs > threshold))))\n",
    "\n",
    "    scores_table = pd.DataFrame({'f1':f1_scores,\n",
    "                                 'precision':precisions,\n",
    "                                 'recall':recalls,\n",
    "                                 'probability':thresholds}).sort_values('f1', ascending=False).round(3)\n",
    "  \n",
    "    figure = plt.figure(figsize = (15, 5))\n",
    "\n",
    "    plt1 = figure.add_subplot(121)\n",
    "    plt1.plot(thresholds, precisions, label='Precision', linewidth=4)\n",
    "    plt1.plot(thresholds, recalls, label='Recall', linewidth=4)\n",
    "    plt1.plot(thresholds, f1_scores, label='F1', linewidth=4)\n",
    "    plt1.set_ylabel('Scores')\n",
    "    plt1.set_xlabel('Probability threshold')\n",
    "    plt1.set_title('Probabilities threshold calibration')\n",
    "    plt1.legend(bbox_to_anchor=(0.25, 0.25))   \n",
    "    plt1.table(cellText = scores_table.values,\n",
    "               colLabels = scores_table.columns, \n",
    "               colLoc = 'center', cellLoc = 'center', loc = 'bottom', bbox = [0, -1.3, 1, 1])\n",
    "\n",
    "    plt2 = figure.add_subplot(122)\n",
    "    plt2.hist(preds_with_true_labels[preds_with_true_labels[:, 1] == 0][:, 0], \n",
    "              label='Another class', color='royalblue', alpha=1)\n",
    "    plt2.hist(preds_with_true_labels[preds_with_true_labels[:, 1] == 1][:, 0], \n",
    "              label='Main class', color='darkcyan', alpha=0.8)\n",
    "    plt2.set_ylabel('Number of examples')\n",
    "    plt2.set_xlabel('Probabilities')\n",
    "    plt2.set_title('Probability histogram')\n",
    "    plt2.legend(bbox_to_anchor=(1, 1))\n",
    "\n",
    "    plt.show()\n"
   ]
  },
  {
   "cell_type": "code",
   "execution_count": 41,
   "metadata": {},
   "outputs": [],
   "source": [
    "def update_predict_by_prob(y_true, predict_probas, prob_min, prob_max, prob_steps, score='f1', show_chart=False):\n",
    "    if score=='f1':\n",
    "        score_estimator = f1_score\n",
    "    elif score=='accuracy':\n",
    "        score_estimator = accuracy_score\n",
    "    else:\n",
    "        print('wrong score name')\n",
    "        return None\n",
    "    prob_range = np.linspace(prob_min, prob_max, prob_steps)\n",
    "    scores = []\n",
    "    for p in prob_range:\n",
    "        predict_rebalanced = np.array([1 if x>=p else 0 for x in predict_probas[:,1]])\n",
    "        scores.append(score_estimator(y_true, predict_rebalanced))\n",
    "    if show_chart:\n",
    "        figure = plt.figure(figsize = (5, 4))\n",
    "        plt.ylabel('Scores')\n",
    "        plt.xlabel('Probability threshold')\n",
    "        plt.plot(prob_range, scores, label=score, linewidth=4)\n",
    "        plt.title(\"Best Threshold Probability Search\")\n",
    "        plt.show()\n",
    "    scores = np.array(scores)\n",
    "    best_prob = prob_range[scores.argmax()]\n",
    "    print(f'best threshold probability = {best_prob}')\n",
    "    predict_rebalanced_final = np.array([1 if x>=best_prob else 0 for x in predict_probas[:,1]])\n",
    "    return predict_rebalanced_final, best_prob"
   ]
  },
  {
   "cell_type": "markdown",
   "metadata": {},
   "source": [
    "#### Настройка логистической регрессии"
   ]
  },
  {
   "cell_type": "markdown",
   "metadata": {},
   "source": [
    "**Сетка параметров**"
   ]
  },
  {
   "cell_type": "code",
   "execution_count": 42,
   "metadata": {},
   "outputs": [],
   "source": [
    "pipeline_steps = [\n",
    "                        ('scaler', MinMaxScaler()),\n",
    "                        ('oversampler', smote),\n",
    "                        ('logreg', LogisticRegression(n_jobs=-1, class_weight='balanced', random_state=42))\n",
    "                        ]\n",
    "param_grid = {\n",
    "    'penalty': ['l2'],\n",
    "    \"tol\": [1e-6],\n",
    "    \"C\": [1],\n",
    "    'max_iter': [800],\n",
    "    'solver':['saga'],\n",
    "    }"
   ]
  },
  {
   "cell_type": "markdown",
   "metadata": {},
   "source": [
    "**GridSearch**"
   ]
  },
  {
   "cell_type": "code",
   "execution_count": null,
   "metadata": {},
   "outputs": [
    {
     "name": "stdout",
     "output_type": "stream",
     "text": [
      "Logistic Regression\n",
      "----------------------------------------------------------------------\n"
     ]
    }
   ],
   "source": [
    "print(f'Logistic Regression')\n",
    "print(70*'-')\n",
    "param_grid = parameters_parser(param_grid, 'logreg')\n",
    "pipe = SM_Pipeline(pipeline_steps)\n",
    "grid = GridSearchCV(pipe, param_grid=param_grid, scoring='f1', cv=cv_)\n",
    "grid.fit(X_train_reduced, y_train_reduced)\n",
    "best_model = grid.best_estimator_[-1]\n",
    "print(f'best f1 score on CV = {grid.best_score_}')\n",
    "best_params = best_model.get_params()\n",
    "print(best_params)"
   ]
  },
  {
   "cell_type": "markdown",
   "metadata": {},
   "source": [
    "**Тестовая модель на валидном датасете**"
   ]
  },
  {
   "cell_type": "code",
   "execution_count": null,
   "metadata": {},
   "outputs": [],
   "source": [
    "\n",
    "model_label = pipeline_steps[-1][0]\n",
    "pipeline_steps2 = pipeline_steps.copy()\n",
    "pipeline_steps2[-1] = (model_label, best_model)\n",
    "pipe2 = SM_Pipeline(pipeline_steps2)\n",
    "pipe2.fit(X_train_reduced, y_train_reduced)\n",
    "predict = pipe2.predict(X_valid)\n",
    "predict_train = pipe2.predict(X_train_reduced)\n",
    "predict_probas = pipe2.predict_proba(X_valid)\n"
   ]
  },
  {
   "cell_type": "markdown",
   "metadata": {},
   "source": [
    "**Calibrating probability**"
   ]
  },
  {
   "cell_type": "code",
   "execution_count": null,
   "metadata": {},
   "outputs": [],
   "source": [
    "predict_probas = pipe2.predict_proba(X_valid)\n",
    "show_proba_calibration_plots(predict_probas, y_valid, 0.4, 0.6, 20)\n",
    "predict2, threshold_prob = update_predict_by_prob(y_valid, predict_probas, 0.4, 0.6, 20, score='f1', show_chart=True)\n",
    "print(f1_score(y_valid, predict))\n",
    "print(f1_score(y_valid, predict2))"
   ]
  },
  {
   "cell_type": "markdown",
   "metadata": {},
   "source": [
    "**Визуализация данных и сохранение в хэш таблицу**"
   ]
  },
  {
   "cell_type": "code",
   "execution_count": null,
   "metadata": {},
   "outputs": [],
   "source": [
    "print(70*'-')\n",
    "print(f'f1 on valid set = {f1_score(y_valid, predict)}')\n",
    "print(f'f1 on valid set after calibrating = {f1_score(y_valid, predict2)}')\n",
    "print(confusion_matrix(y_valid, predict2))\n",
    "print(classification_report(y_valid, predict2))\n",
    "label = pipeline_steps[-1][0]+'_tuned'\n",
    "result_dict[label] = (accuracy_score(y_valid, predict2), f1_score(y_valid, predict2), best_params, threshold_prob)"
   ]
  },
  {
   "cell_type": "markdown",
   "metadata": {},
   "source": [
    "#### Настройка SVM LINEAR"
   ]
  },
  {
   "cell_type": "markdown",
   "metadata": {},
   "source": [
    "**Сетка параметров**"
   ]
  },
  {
   "cell_type": "code",
   "execution_count": null,
   "metadata": {},
   "outputs": [],
   "source": [
    "pipeline_steps = [\n",
    "                        ('scaler', MinMaxScaler()),\n",
    "                        ('oversampler', smote),\n",
    "                        ('linear_svc', LinearSVC(random_state=42, class_weight='balanced'))\n",
    "                        ]\n",
    "\n",
    "param_grid = {\n",
    "    'penalty': ['l2'],\n",
    "    \"tol\": [1], #1e-5\n",
    "    \"C\": [0.1], #1.0\n",
    "    'max_iter': [2400], #1000\n",
    "    }"
   ]
  },
  {
   "cell_type": "markdown",
   "metadata": {},
   "source": [
    "**GridSearch**"
   ]
  },
  {
   "cell_type": "code",
   "execution_count": null,
   "metadata": {},
   "outputs": [],
   "source": [
    "print(f'Linear SVC')\n",
    "print(70*'-')\n",
    "param_grid = parameters_parser(param_grid, pipeline_steps[-1][0])\n",
    "pipe = SM_Pipeline(pipeline_steps)\n",
    "grid = GridSearchCV(pipe, param_grid=param_grid, scoring='f1', cv=cv_)\n",
    "grid.fit(X_train_reduced, y_train_reduced)\n",
    "best_model = grid.best_estimator_[-1]\n",
    "print(f'best f1 score on CV = {grid.best_score_}')\n",
    "best_params = best_model.get_params()\n",
    "print(best_params)"
   ]
  },
  {
   "cell_type": "markdown",
   "metadata": {},
   "source": [
    "**Тестовая модель на допустимом наборе данных**"
   ]
  },
  {
   "cell_type": "code",
   "execution_count": null,
   "metadata": {},
   "outputs": [],
   "source": [
    "model_label = pipeline_steps[-1][0]\n",
    "pipeline_steps2 = pipeline_steps.copy()\n",
    "pipeline_steps2[-1] = (model_label, best_model)\n",
    "pipe2 = SM_Pipeline(pipeline_steps2)\n",
    "pipe2.fit(X_train_reduced, y_train_reduced)\n",
    "predict = pipe2.predict(X_valid)\n",
    "predict_train = pipe2.predict(X_train_reduced)\n",
    "\n",
    "print(70*'-')\n",
    "print(f'accuracy on valid set = {accuracy_score(y_valid, predict)}')\n",
    "print(f'f1 on valid set = {f1_score(y_valid, predict)}')\n",
    "print(f'f1 on reduced train set = {f1_score(y_train_reduced, predict_train)}')\n",
    "print(confusion_matrix(y_valid, predict))\n",
    "print(classification_report(y_valid, predict))"
   ]
  },
  {
   "cell_type": "markdown",
   "metadata": {},
   "source": [
    "**сохранение в хэш таблицу**"
   ]
  },
  {
   "cell_type": "code",
   "execution_count": null,
   "metadata": {},
   "outputs": [],
   "source": [
    "label = pipeline_steps[-1][0]+'_tuned'\n",
    "result_dict[label] = (accuracy_score(y_valid, predict), f1_score(y_valid, predict), best_params, None)"
   ]
  },
  {
   "cell_type": "markdown",
   "metadata": {},
   "source": [
    "#### Настройка RBF SVM"
   ]
  },
  {
   "cell_type": "code",
   "execution_count": null,
   "metadata": {},
   "outputs": [],
   "source": [
    "pipeline_steps = [\n",
    "    ('scaler', MinMaxScaler()),\n",
    "    ('oversampler', smote),\n",
    "    ('rbfsvm', SVC(random_state=42, class_weight='balanced'))\n",
    "]\n",
    "\n",
    "param_grid = {\n",
    "    'kernel': ['rbf'],\n",
    "    \"tol\": [1],\n",
    "    \"degree\": [3],\n",
    "    'C': [0.1],\n",
    "}"
   ]
  },
  {
   "cell_type": "markdown",
   "metadata": {},
   "source": [
    "**GridSearch**"
   ]
  },
  {
   "cell_type": "code",
   "execution_count": null,
   "metadata": {
    "pycharm": {
     "is_executing": true
    }
   },
   "outputs": [],
   "source": [
    "print(f'RBF SVC')\n",
    "print(70*'-')\n",
    "param_grid = parameters_parser(param_grid, pipeline_steps[-1][0])\n",
    "pipe = SM_Pipeline(pipeline_steps)\n",
    "grid = GridSearchCV(pipe, param_grid=param_grid, scoring='f1', cv=cv_)\n",
    "grid.fit(X_train_reduced, y_train_reduced)\n",
    "best_model = grid.best_estimator_[-1]\n",
    "print(f'best f1 score on CV = {grid.best_score_}')\n",
    "best_params = best_model.get_params()\n",
    "print(best_params)"
   ]
  },
  {
   "cell_type": "code",
   "execution_count": null,
   "metadata": {
    "pycharm": {
     "is_executing": true
    }
   },
   "outputs": [],
   "source": [
    "model_label = pipeline_steps[-1][0]\n",
    "pipeline_steps2 = pipeline_steps.copy()\n",
    "pipeline_steps2[-1] = (model_label, best_model)\n",
    "pipe2 = SM_Pipeline(pipeline_steps2)\n",
    "pipe2.fit(X_train_reduced, y_train_reduced)\n",
    "predict = pipe2.predict(X_valid)\n",
    "predict_train = pipe2.predict(X_train_reduced)\n",
    "\n",
    "print(70*'-')\n",
    "print(f'accuracy on valid set = {accuracy_score(y_valid, predict)}')\n",
    "print(f'f1 on valid set = {f1_score(y_valid, predict)}')\n",
    "print(f'f1 on reduced train set = {f1_score(y_train_reduced, predict_train)}')\n",
    "print(confusion_matrix(y_valid, predict))\n",
    "print(classification_report(y_valid, predict))"
   ]
  },
  {
   "cell_type": "code",
   "execution_count": null,
   "metadata": {
    "pycharm": {
     "is_executing": true
    }
   },
   "outputs": [],
   "source": [
    "label = pipeline_steps[-1][0]+'_tuned'\n",
    "result_dict[label] = (accuracy_score(y_valid, predict), f1_score(y_valid, predict), best_params, None)"
   ]
  },
  {
   "cell_type": "markdown",
   "metadata": {},
   "source": [
    "#### Настройка Naive Bayes Classifier"
   ]
  },
  {
   "cell_type": "code",
   "execution_count": null,
   "metadata": {
    "pycharm": {
     "is_executing": true
    }
   },
   "outputs": [],
   "source": [
    "pipeline_steps = [\n",
    "    ('oversampler', smote),\n",
    "    ('bayes', GaussianNB())\n",
    "]\n",
    "\n",
    "param_grid = {\n",
    "    'var_smoothing': [1e-14],\n",
    "}"
   ]
  },
  {
   "cell_type": "markdown",
   "metadata": {},
   "source": [
    "**GridSearch**"
   ]
  },
  {
   "cell_type": "code",
   "execution_count": null,
   "metadata": {
    "pycharm": {
     "is_executing": true
    }
   },
   "outputs": [],
   "source": [
    "print(f'BAYES')\n",
    "print(70*'-')\n",
    "param_grid = parameters_parser(param_grid, pipeline_steps[-1][0])\n",
    "pipe = SM_Pipeline(pipeline_steps)\n",
    "grid = GridSearchCV(pipe, param_grid=param_grid, scoring='f1', cv=cv_)\n",
    "grid.fit(X_train_reduced, y_train_reduced)\n",
    "best_model = grid.best_estimator_[-1]\n",
    "print(f'best f1 score on CV = {grid.best_score_}')\n",
    "best_params = best_model.get_params()\n",
    "print(best_params)"
   ]
  },
  {
   "cell_type": "markdown",
   "metadata": {},
   "source": [
    "**Тестовая модель на допустимом наборе данных**"
   ]
  },
  {
   "cell_type": "code",
   "execution_count": null,
   "metadata": {
    "pycharm": {
     "is_executing": true
    }
   },
   "outputs": [],
   "source": [
    "\n",
    "model_label = pipeline_steps[-1][0]\n",
    "pipeline_steps2 = pipeline_steps.copy()\n",
    "pipeline_steps2[-1] = (model_label, best_model)\n",
    "pipe2 = SM_Pipeline(pipeline_steps2)\n",
    "pipe2.fit(X_train_reduced, y_train_reduced)\n",
    "predict = pipe2.predict(X_valid)\n",
    "predict_train = pipe2.predict(X_train_reduced)"
   ]
  },
  {
   "cell_type": "markdown",
   "metadata": {},
   "source": [
    "**Калибровка**"
   ]
  },
  {
   "cell_type": "code",
   "execution_count": null,
   "metadata": {
    "pycharm": {
     "is_executing": true
    }
   },
   "outputs": [],
   "source": [
    "\n",
    "predict_probas = pipe2.predict_proba(X_valid)\n",
    "show_proba_calibration_plots(predict_probas, y_valid, 0.1, 0.9, 10)\n",
    "predict2, threshold_prob = update_predict_by_prob(y_valid, predict_probas, 0.35, 0.48, 20, score='f1', show_chart=True)\n",
    "print(f1_score(y_valid, predict))\n",
    "print(f1_score(y_valid, predict2))"
   ]
  },
  {
   "cell_type": "code",
   "execution_count": null,
   "metadata": {
    "pycharm": {
     "is_executing": true
    }
   },
   "outputs": [],
   "source": [
    "\n",
    "print(70*'-')\n",
    "print(f'f1 on valid set = {f1_score(y_valid, predict)}')\n",
    "print(f'f1 on valid set after calibrating = {f1_score(y_valid, predict2)}')\n",
    "print(confusion_matrix(y_valid, predict2))\n",
    "print(classification_report(y_valid, predict2))\n",
    "label = pipeline_steps[-1][0]+'_tuned'\n",
    "result_dict[label] = (accuracy_score(y_valid, predict), f1_score(y_valid, predict), best_params, threshold_prob)"
   ]
  },
  {
   "cell_type": "markdown",
   "metadata": {},
   "source": [
    "#### Настройка RandomForest"
   ]
  },
  {
   "cell_type": "code",
   "execution_count": null,
   "metadata": {
    "pycharm": {
     "is_executing": true
    }
   },
   "outputs": [],
   "source": [
    "pipeline_steps = [\n",
    "    ('oversampler', smote),\n",
    "    ('rf', RandomForestClassifier(n_jobs=-1,  class_weight='balanced', random_state=42))\n",
    "]\n",
    "\n",
    "param_grid = {\n",
    "    'n_estimators': [1500], \n",
    "    'max_depth': [7],\n",
    "    'min_samples_split':[100],\n",
    "}\n"
   ]
  },
  {
   "cell_type": "markdown",
   "metadata": {},
   "source": [
    "**GridSearch**"
   ]
  },
  {
   "cell_type": "code",
   "execution_count": null,
   "metadata": {
    "pycharm": {
     "is_executing": true
    }
   },
   "outputs": [],
   "source": [
    "print(f'RANDOM FOREST')\n",
    "print(70*'-')\n",
    "param_grid = parameters_parser(param_grid, pipeline_steps[-1][0])\n",
    "pipe = SM_Pipeline(pipeline_steps)\n",
    "grid = GridSearchCV(pipe, param_grid=param_grid, scoring='f1', cv=cv_)\n",
    "grid.fit(X_train_reduced, y_train_reduced)\n",
    "best_model = grid.best_estimator_[-1]\n",
    "print(f'best f1 score on CV = {grid.best_score_}')\n",
    "best_params = best_model.get_params()\n",
    "print(best_params)"
   ]
  },
  {
   "cell_type": "markdown",
   "metadata": {},
   "source": [
    "**Тестовая модель на допустимом наборе данных**"
   ]
  },
  {
   "cell_type": "code",
   "execution_count": null,
   "metadata": {
    "pycharm": {
     "is_executing": true
    }
   },
   "outputs": [],
   "source": [
    "model_label = pipeline_steps[-1][0]\n",
    "pipeline_steps2 = pipeline_steps.copy()\n",
    "pipeline_steps2[-1] = (model_label, best_model)\n",
    "pipe2 = SM_Pipeline(pipeline_steps2)\n",
    "pipe2.fit(X_train_reduced, y_train_reduced)\n",
    "predict = pipe2.predict(X_valid)\n",
    "predict_train = pipe2.predict(X_train_reduced)"
   ]
  },
  {
   "cell_type": "markdown",
   "metadata": {},
   "source": [
    "**Калибровка вероятностей**"
   ]
  },
  {
   "cell_type": "code",
   "execution_count": null,
   "metadata": {
    "pycharm": {
     "is_executing": true
    }
   },
   "outputs": [],
   "source": [
    "predict_probas = pipe2.predict_proba(X_valid)\n",
    "show_proba_calibration_plots(predict_probas, y_valid, 0.1, 0.9, 20)\n",
    "predict2, threshold_prob = update_predict_by_prob(y_valid, predict_probas, 0.3, 0.6, 150, score='f1', show_chart=True)\n",
    "print(f1_score(y_valid, predict))\n",
    "print(f1_score(y_valid, predict2))"
   ]
  },
  {
   "cell_type": "markdown",
   "metadata": {},
   "source": [
    "**Вывод и сохранение данных**"
   ]
  },
  {
   "cell_type": "code",
   "execution_count": null,
   "metadata": {
    "pycharm": {
     "is_executing": true
    },
    "scrolled": true
   },
   "outputs": [],
   "source": [
    "print(70*'-')\n",
    "print(f'f1 on valid set = {f1_score(y_valid, predict)}')\n",
    "print(f'f1 on valid set after calibrating = {f1_score(y_valid, predict2)}')\n",
    "print(confusion_matrix(y_valid, predict2))\n",
    "print(classification_report(y_valid, predict2))\n",
    "label = pipeline_steps[-1][0]+'_tuned'\n",
    "result_dict[label] = (accuracy_score(y_valid, predict2), f1_score(y_valid, predict2), best_params, threshold_prob)"
   ]
  },
  {
   "cell_type": "markdown",
   "metadata": {},
   "source": [
    "#### Настройка XGBoost"
   ]
  },
  {
   "cell_type": "code",
   "execution_count": null,
   "metadata": {
    "pycharm": {
     "is_executing": true
    }
   },
   "outputs": [],
   "source": [
    "pipeline_steps = [\n",
    "    ('oversampler', smote),\n",
    "    ('xgb', xgb.XGBClassifier(n_jobs=-1, random_state=42))\n",
    "]\n",
    "\n",
    "param_grid = {\n",
    "    'base_score': [0.7],\n",
    "    'booster': ['gbtree'], \n",
    "    'n_estimators': [12],\n",
    "    'learning_rate': [1e-1], #0.01\n",
    "    'max_depth': [5],\n",
    "    'reg_lambda': [0.1], # 0.1\n",
    "    'gamma': [1e-3]\n",
    "}"
   ]
  },
  {
   "cell_type": "markdown",
   "metadata": {},
   "source": [
    "**GridSearch**"
   ]
  },
  {
   "cell_type": "code",
   "execution_count": null,
   "metadata": {
    "pycharm": {
     "is_executing": true
    }
   },
   "outputs": [],
   "source": [
    "print(f'XG-BOOST')\n",
    "print(70*'-')\n",
    "param_grid = parameters_parser(param_grid, pipeline_steps[-1][0])\n",
    "pipe = SM_Pipeline(pipeline_steps)\n",
    "grid = GridSearchCV(pipe, param_grid=param_grid, scoring='f1', cv=cv_)\n",
    "grid.fit(X_train_reduced, y_train_reduced)\n",
    "best_model = grid.best_estimator_[-1]\n",
    "print(f'best f1 score on CV = {grid.best_score_}')\n",
    "best_params = best_model.get_params()\n",
    "print(best_params)\n"
   ]
  },
  {
   "cell_type": "markdown",
   "metadata": {},
   "source": [
    "**Тестовая модель на допустимом наборе данных**"
   ]
  },
  {
   "cell_type": "code",
   "execution_count": null,
   "metadata": {
    "pycharm": {
     "is_executing": true
    }
   },
   "outputs": [],
   "source": [
    "model_label = pipeline_steps[-1][0]\n",
    "pipeline_steps2 = pipeline_steps.copy()\n",
    "pipeline_steps2[-1] = (model_label, best_model)\n",
    "pipe2 = SM_Pipeline(pipeline_steps2)\n",
    "pipe2.fit(X_train_reduced, y_train_reduced)\n",
    "predict = pipe2.predict(X_valid)\n",
    "predict_train = pipe2.predict(X_train_reduced)"
   ]
  },
  {
   "cell_type": "code",
   "execution_count": null,
   "metadata": {
    "pycharm": {
     "is_executing": true
    }
   },
   "outputs": [],
   "source": [
    "predict_probas = pipe2.predict_proba(X_valid)\n",
    "show_proba_calibration_plots(predict_probas, y_valid, 0.1, 0.9, 20)\n",
    "predict2, threshold_prob = update_predict_by_prob(y_valid, predict_probas, 0.40, 0.55, 100, score='f1', show_chart=True)\n",
    "print(f1_score(y_valid, predict))\n",
    "print(f1_score(y_valid, predict2))"
   ]
  },
  {
   "cell_type": "code",
   "execution_count": null,
   "metadata": {
    "pycharm": {
     "is_executing": true
    }
   },
   "outputs": [],
   "source": [
    "\n",
    "print(70*'-')\n",
    "print(f'f1 on valid set = {f1_score(y_valid, predict)}')\n",
    "print(f'f1 on valid set after calibrating = {f1_score(y_valid, predict2)}')\n",
    "print(confusion_matrix(y_valid, predict2))\n",
    "print(classification_report(y_valid, predict2))\n",
    "label = pipeline_steps[-1][0]+'_tuned'\n",
    "result_dict[label] = (accuracy_score(y_valid, predict2), f1_score(y_valid, predict2), best_params, threshold_prob)"
   ]
  },
  {
   "cell_type": "markdown",
   "metadata": {},
   "source": [
    "#### Настройка ADAboost"
   ]
  },
  {
   "cell_type": "code",
   "execution_count": null,
   "metadata": {
    "pycharm": {
     "is_executing": true
    }
   },
   "outputs": [],
   "source": [
    "pipeline_steps = [\n",
    "    ('oversampler', smote),\n",
    "    ('ada', AdaBoostClassifier(random_state=42))\n",
    "]\n",
    "\n",
    "param_grid = {\n",
    "    'n_estimators': [7], \n",
    "    'learning_rate':[1]\n",
    "}"
   ]
  },
  {
   "cell_type": "markdown",
   "metadata": {},
   "source": [
    "**GridSearch**"
   ]
  },
  {
   "cell_type": "code",
   "execution_count": null,
   "metadata": {
    "pycharm": {
     "is_executing": true
    }
   },
   "outputs": [],
   "source": [
    "print(f'ADA-BOOST')\n",
    "print(70*'-')\n",
    "param_grid = parameters_parser(param_grid, pipeline_steps[-1][0])\n",
    "pipe = SM_Pipeline(pipeline_steps)\n",
    "grid = GridSearchCV(pipe, param_grid=param_grid, scoring='f1', cv=cv_)\n",
    "grid.fit(X_train_reduced, y_train_reduced)\n",
    "best_model = grid.best_estimator_[-1]\n",
    "print(f'best f1 score on CV = {grid.best_score_}')\n",
    "best_params = best_model.get_params()\n",
    "print(best_params)"
   ]
  },
  {
   "cell_type": "markdown",
   "metadata": {},
   "source": [
    "**Тестовая модель на допустимом наборе данных**"
   ]
  },
  {
   "cell_type": "code",
   "execution_count": null,
   "metadata": {
    "pycharm": {
     "is_executing": true
    }
   },
   "outputs": [],
   "source": [
    "model_label = pipeline_steps[-1][0]\n",
    "pipeline_steps2 = pipeline_steps.copy()\n",
    "pipeline_steps2[-1] = (model_label, best_model)\n",
    "pipe2 = SM_Pipeline(pipeline_steps2)\n",
    "pipe2.fit(X_train_reduced, y_train_reduced)\n",
    "predict = pipe2.predict(X_valid)\n",
    "predict_train = pipe2.predict(X_train_reduced)"
   ]
  },
  {
   "cell_type": "markdown",
   "metadata": {},
   "source": [
    "**Калибровака**"
   ]
  },
  {
   "cell_type": "code",
   "execution_count": null,
   "metadata": {
    "pycharm": {
     "is_executing": true
    }
   },
   "outputs": [],
   "source": [
    "predict_probas = pipe2.predict_proba(X_valid)\n",
    "show_proba_calibration_plots(predict_probas, y_valid, 0.1, 0.9, 20)\n",
    "predict2, threshold_prob = update_predict_by_prob(y_valid, predict_probas, 0.4, 0.55, 100, score='f1', show_chart=True)\n",
    "print(f1_score(y_valid, predict))\n",
    "print(f1_score(y_valid, predict2))"
   ]
  },
  {
   "cell_type": "markdown",
   "metadata": {},
   "source": [
    "**Вывод информации и сохранение**"
   ]
  },
  {
   "cell_type": "code",
   "execution_count": null,
   "metadata": {
    "pycharm": {
     "is_executing": true
    },
    "scrolled": true
   },
   "outputs": [],
   "source": [
    "print(70*'-')\n",
    "print(f'f1 on valid set = {f1_score(y_valid, predict)}')\n",
    "print(f'f1 on valid set after calibrating = {f1_score(y_valid, predict2)}')\n",
    "print(confusion_matrix(y_valid, predict2))\n",
    "print(classification_report(y_valid, predict2))\n",
    "label = pipeline_steps[-1][0]+'_tuned'\n",
    "result_dict[label] = (accuracy_score(y_valid, predict2), f1_score(y_valid, predict2), best_params, threshold_prob)"
   ]
  },
  {
   "cell_type": "markdown",
   "metadata": {},
   "source": [
    "#### Настройка Light-boost"
   ]
  },
  {
   "cell_type": "code",
   "execution_count": null,
   "metadata": {
    "pycharm": {
     "is_executing": true
    }
   },
   "outputs": [],
   "source": [
    "pipeline_steps = [\n",
    "    ('oversampler', smote),\n",
    "    ('light', lgbm.LGBMClassifier(n_jobs=-1, random_state=42, class_weight='balanced'))\n",
    "]\n",
    "\n",
    "\n",
    "param_grid = {\n",
    "    'boosting_type': ['goss'],\n",
    "    'n_estimators': [60],\n",
    "    'learning_rate': [1e-1], #0.1\n",
    "    'max_depth': [5],\n",
    "    'reg_lambda': [0.1], \n",
    "    'num_leaves': [300] \n",
    "    }"
   ]
  },
  {
   "cell_type": "markdown",
   "metadata": {},
   "source": [
    "**GridSearch**"
   ]
  },
  {
   "cell_type": "code",
   "execution_count": null,
   "metadata": {
    "pycharm": {
     "is_executing": true
    }
   },
   "outputs": [],
   "source": [
    "print(f'LIGHT-BOOST')\n",
    "print(70*'-')\n",
    "param_grid = parameters_parser(param_grid, pipeline_steps[-1][0])\n",
    "pipe = SM_Pipeline(pipeline_steps)\n",
    "grid = GridSearchCV(pipe, param_grid=param_grid, scoring='f1', cv=cv_)\n",
    "grid.fit(X_train_reduced, y_train_reduced)\n",
    "best_model = grid.best_estimator_[-1]\n",
    "print(f'best f1 score on CV = {grid.best_score_}')\n",
    "best_params = best_model.get_params()\n",
    "print(best_params)"
   ]
  },
  {
   "cell_type": "markdown",
   "metadata": {},
   "source": [
    "**Тестовая модель на допустимом наборе данных**"
   ]
  },
  {
   "cell_type": "code",
   "execution_count": null,
   "metadata": {
    "pycharm": {
     "is_executing": true
    }
   },
   "outputs": [],
   "source": [
    "model_label = pipeline_steps[-1][0]\n",
    "pipeline_steps2 = pipeline_steps.copy()\n",
    "pipeline_steps2[-1] = (model_label, best_model)\n",
    "pipe2 = SM_Pipeline(pipeline_steps2)\n",
    "pipe2.fit(X_train_reduced, y_train_reduced)\n",
    "predict = pipe2.predict(X_valid)\n",
    "predict_train = pipe2.predict(X_train_reduced)"
   ]
  },
  {
   "cell_type": "markdown",
   "metadata": {},
   "source": [
    "**Калибровка вероятностей**"
   ]
  },
  {
   "cell_type": "code",
   "execution_count": null,
   "metadata": {
    "pycharm": {
     "is_executing": true
    }
   },
   "outputs": [],
   "source": [
    "predict_probas = pipe2.predict_proba(X_valid)\n",
    "show_proba_calibration_plots(predict_probas, y_valid, 0.1, 0.9, 20)\n",
    "predict2, threshold_prob = update_predict_by_prob(y_valid, predict_probas, 0.3, 0.51, 200, score='f1', show_chart=True)\n",
    "print(f1_score(y_valid, predict))\n",
    "print(f1_score(y_valid, predict2))"
   ]
  },
  {
   "cell_type": "code",
   "execution_count": null,
   "metadata": {
    "pycharm": {
     "is_executing": true
    }
   },
   "outputs": [],
   "source": [
    "print(70*'-')\n",
    "print(f'f1 on valid set = {f1_score(y_valid, predict)}')\n",
    "print(f'f1 on valid set after calibrating = {f1_score(y_valid, predict2)}')\n",
    "print(confusion_matrix(y_valid, predict2))\n",
    "print(classification_report(y_valid, predict2))\n",
    "label = pipeline_steps[-1][0]+'_tuned'\n",
    "result_dict[label] = (accuracy_score(y_valid, predict2), f1_score(y_valid, predict2), best_params, threshold_prob)"
   ]
  },
  {
   "cell_type": "markdown",
   "metadata": {},
   "source": [
    "#### Настройка Cat-boost"
   ]
  },
  {
   "cell_type": "code",
   "execution_count": null,
   "metadata": {
    "pycharm": {
     "is_executing": true
    }
   },
   "outputs": [],
   "source": [
    "pipeline_steps = [\n",
    "                    ('oversampler', smote),\n",
    "                    ('cat', catb.CatBoostClassifier(random_state=42, thread_count=-1, silent=True))\n",
    "                     ]\n",
    "\n",
    "\n",
    "param_grid = {\n",
    "    'boosting_type': ['Plain'],\n",
    "    'n_estimators': [15],\n",
    "    'max_depth': [5],\n",
    "    'l2_leaf_reg': [1], \n",
    "    }"
   ]
  },
  {
   "cell_type": "markdown",
   "metadata": {},
   "source": [
    "**GridSearch**"
   ]
  },
  {
   "cell_type": "code",
   "execution_count": null,
   "metadata": {
    "pycharm": {
     "is_executing": true
    }
   },
   "outputs": [],
   "source": [
    "print(f'CAT-BOOST')\n",
    "print(70*'-')\n",
    "param_grid = parameters_parser(param_grid, pipeline_steps[-1][0])\n",
    "pipe = SM_Pipeline(pipeline_steps)\n",
    "grid = GridSearchCV(pipe, param_grid=param_grid, scoring='f1', cv=cv_)\n",
    "grid.fit(X_train_reduced, y_train_reduced)\n",
    "best_model = grid.best_estimator_[-1]\n",
    "print(f'best f1 score on CV = {grid.best_score_}')\n",
    "best_params = best_model.get_params()\n",
    "print(best_params)"
   ]
  },
  {
   "cell_type": "markdown",
   "metadata": {},
   "source": [
    "**Тестовая модель на допустимом наборе данных**"
   ]
  },
  {
   "cell_type": "code",
   "execution_count": null,
   "metadata": {
    "pycharm": {
     "is_executing": true
    }
   },
   "outputs": [],
   "source": [
    "model_label = pipeline_steps[-1][0]\n",
    "pipeline_steps2 = pipeline_steps.copy()\n",
    "pipeline_steps2[-1] = (model_label, best_model)\n",
    "pipe2 = SM_Pipeline(pipeline_steps2)\n",
    "pipe2.fit(X_train_reduced, y_train_reduced)\n",
    "predict = pipe2.predict(X_valid)\n",
    "predict_train = pipe2.predict(X_train_reduced)"
   ]
  },
  {
   "cell_type": "markdown",
   "metadata": {},
   "source": [
    "**Калибровка вероятностей**"
   ]
  },
  {
   "cell_type": "code",
   "execution_count": null,
   "metadata": {
    "pycharm": {
     "is_executing": true
    }
   },
   "outputs": [],
   "source": [
    "predict_probas = pipe2.predict_proba(X_valid)\n",
    "show_proba_calibration_plots(predict_probas, y_valid, 0.1, 0.9, 20)\n",
    "predict2, threshold_prob = update_predict_by_prob(y_valid, predict_probas, 0.2, 0.6, 200, score='f1', show_chart=True)\n",
    "print(f1_score(y_valid, predict))\n",
    "print(f1_score(y_valid, predict2))"
   ]
  },
  {
   "cell_type": "code",
   "execution_count": null,
   "metadata": {
    "pycharm": {
     "is_executing": true
    }
   },
   "outputs": [],
   "source": [
    "\n",
    "print(70*'-')\n",
    "print(f'f1 on valid set = {f1_score(y_valid, predict)}')\n",
    "print(f'f1 on valid set after calibrating = {f1_score(y_valid, predict2)}')\n",
    "print(confusion_matrix(y_valid, predict2))\n",
    "print(classification_report(y_valid, predict2))\n",
    "label = pipeline_steps[-1][0]+'_tuned'\n",
    "result_dict[label] = (accuracy_score(y_valid, predict2), f1_score(y_valid, predict2), best_params, threshold_prob)"
   ]
  },
  {
   "cell_type": "markdown",
   "metadata": {},
   "source": [
    "#### Соберем результаты в dataframe"
   ]
  },
  {
   "cell_type": "code",
   "execution_count": null,
   "metadata": {
    "pycharm": {
     "is_executing": true
    }
   },
   "outputs": [],
   "source": [
    "all_models_results = pd.DataFrame(columns=['label', 'f1_score', 'accuracy_score', 'hyperparams','threshold_prob'])\n",
    "all_models_results.label = list(result_dict.keys())\n",
    "all_models_results.f1_score = list(i[1] for i in result_dict.values())\n",
    "all_models_results.accuracy_score = list(i[0] for i in result_dict.values())\n",
    "all_models_results.hyperparams = list(i[2] for i in result_dict.values())\n",
    "all_models_results.threshold_prob = list(i[3] for i in result_dict.values())"
   ]
  },
  {
   "cell_type": "code",
   "execution_count": null,
   "metadata": {
    "pycharm": {
     "is_executing": true
    }
   },
   "outputs": [],
   "source": [
    "all_models_results"
   ]
  },
  {
   "cell_type": "markdown",
   "metadata": {},
   "source": [
    "#### Сохранение сравнительной таблицы"
   ]
  },
  {
   "cell_type": "code",
   "execution_count": null,
   "metadata": {
    "pycharm": {
     "is_executing": true
    }
   },
   "outputs": [],
   "source": [
    "import pickle\n",
    "\n",
    "with open('all_models_results.pkl', 'wb') as file:\n",
    "    pickle.dump(all_models_results, file)"
   ]
  },
  {
   "cell_type": "markdown",
   "metadata": {},
   "source": [
    "### Обучение финальной модели"
   ]
  },
  {
   "cell_type": "markdown",
   "metadata": {},
   "source": [
    "**описание действий**\n",
    "- Загрузка выбранного экземпляра модели\n",
    "- Подготовка данных (Тестовая Выборка)\n",
    "- Обучение модели\n",
    "- Генерация прогноза"
   ]
  },
  {
   "cell_type": "markdown",
   "metadata": {},
   "source": [
    "#### Загрузка и просмотр сравнительной таблицы"
   ]
  },
  {
   "cell_type": "code",
   "execution_count": null,
   "metadata": {
    "pycharm": {
     "is_executing": true
    }
   },
   "outputs": [],
   "source": [
    "with open('all_models_results.pkl', 'rb') as file:\n",
    "    comparative_table = pickle.load(file)\n",
    "\n",
    "display(comparative_table)\n",
    "\n",
    "f, (ax1) = plt.subplots(1, 1, figsize=(14, 5), sharex=True)\n",
    "x = comparative_table.label\n",
    "y1 = comparative_table.f1_score\n",
    "y2 = comparative_table.accuracy_score\n",
    "sns.pointplot(x=x, y=y1, color='g', ax=ax1,label='f1', markers='o')\n",
    "sns.pointplot(x=x, y=y2, color='b', ax=ax1, markers='s', label='acc')\n",
    "ax1.axhline(0.5, color=\"r\", clip_on=True, label='threshold', linestyle='-.');"
   ]
  },
  {
   "cell_type": "markdown",
   "metadata": {},
   "source": [
    "На графике выше представлены сводные результаты расчетов на различных моделях\n",
    "- за исключением Bayes, показатели f1 всех моделей слегка превышают пороговое значение 0.5 и варьируются в пределах 0,52-0,56\n",
    "- при этом вариация accuracy_score чуть выше: от 0,68 до 0,76\n",
    "- наиболее сбалансированные метрики демонстрируют Random Forest, CAT и XG-Boost\n",
    "- в качестве финальной модели выбран вариант Random Forest"
   ]
  },
  {
   "cell_type": "markdown",
   "metadata": {},
   "source": [
    "#### Обучение модели на полном датасете (X_train)\n"
   ]
  },
  {
   "cell_type": "code",
   "execution_count": null,
   "metadata": {
    "pycharm": {
     "is_executing": true
    },
    "scrolled": true
   },
   "outputs": [],
   "source": [
    "final_params = comparative_table.loc[comparative_table.label=='rf_tuned'].hyperparams.values[0]\n",
    "threshold_prob = comparative_table.loc[comparative_table.label=='rf_tuned'].threshold_prob.values[0]\n",
    "\n",
    "pipeline_steps = [\n",
    "                    ('oversampler', smote),\n",
    "                    ('rf', RandomForestClassifier(**final_params))\n",
    "                     ]\n",
    "\n",
    "model = SM_Pipeline(pipeline_steps)\n",
    "model.fit(X_train, y_train)\n",
    "\n",
    "predict_train_probas = model.predict_proba(X_train)\n",
    "predict_train = np.array([1 if x>=threshold_prob else 0 for x in predict_train_probas[:,1]])\n",
    "\n",
    "print('Random Forest: Final Model')\n",
    "print(70*'-')\n",
    "print(f'accuracy on full train set = {accuracy_score(y_train, predict_train)}')\n",
    "print(f'f1 on full train set = {f1_score(y_train, predict_train)}')\n",
    "print(confusion_matrix(y_train, predict_train))\n",
    "print(classification_report(y_train, predict_train))\n",
    "print(70*'-')"
   ]
  },
  {
   "cell_type": "markdown",
   "metadata": {},
   "source": [
    "#### Генерация  и  экспорт прогноза"
   ]
  },
  {
   "cell_type": "code",
   "execution_count": null,
   "metadata": {
    "pycharm": {
     "is_executing": true
    }
   },
   "outputs": [],
   "source": [
    "y_pred_probas = model.predict_proba(X_test)\n",
    "y_pred = np.array([1 if x>=threshold_prob else 0 for x in y_pred_probas[:,1]])\n",
    "y_pred = pd.DataFrame(y_pred, columns=['Credit Default'])\n",
    "\n",
    "print(y_pred.shape)"
   ]
  },
  {
   "cell_type": "markdown",
   "metadata": {},
   "source": [
    "#### Экспорт результатов"
   ]
  },
  {
   "cell_type": "code",
   "execution_count": null,
   "metadata": {
    "pycharm": {
     "is_executing": true
    }
   },
   "outputs": [],
   "source": [
    "import csv\n",
    "filename = 'PetrosyanKG_predictions.csv'\n",
    "y_pred.to_csv(filename, index=None)"
   ]
  }
 ],
 "metadata": {
  "kernelspec": {
   "display_name": "Python 3",
   "language": "python",
   "name": "python3"
  },
  "language_info": {
   "codemirror_mode": {
    "name": "ipython",
    "version": 3
   },
   "file_extension": ".py",
   "mimetype": "text/x-python",
   "name": "python",
   "nbconvert_exporter": "python",
   "pygments_lexer": "ipython3",
   "version": "3.8.2"
  },
  "toc": {
   "base_numbering": 1,
   "nav_menu": {},
   "number_sections": true,
   "sideBar": true,
   "skip_h1_title": true,
   "title_cell": "Table of Contents",
   "title_sidebar": "Contents",
   "toc_cell": true,
   "toc_position": {},
   "toc_section_display": true,
   "toc_window_display": true
  },
  "varInspector": {
   "cols": {
    "lenName": 16,
    "lenType": 16,
    "lenVar": 40
   },
   "kernels_config": {
    "python": {
     "delete_cmd_postfix": "",
     "delete_cmd_prefix": "del ",
     "library": "var_list.py",
     "varRefreshCmd": "print(var_dic_list())"
    },
    "r": {
     "delete_cmd_postfix": ") ",
     "delete_cmd_prefix": "rm(",
     "library": "var_list.r",
     "varRefreshCmd": "cat(var_dic_list()) "
    }
   },
   "types_to_exclude": [
    "module",
    "function",
    "builtin_function_or_method",
    "instance",
    "_Feature"
   ],
   "window_display": false
  }
 },
 "nbformat": 4,
 "nbformat_minor": 2
}
